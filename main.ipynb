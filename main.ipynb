{
 "cells": [
  {
   "cell_type": "markdown",
   "id": "8cd52099",
   "metadata": {},
   "source": [
    "# Predicting Income Using Census Dataset"
   ]
  },
  {
   "cell_type": "markdown",
   "id": "978823f3",
   "metadata": {},
   "source": [
    "This project is aimed at predicting whether an individual's income is greater than $50K or not using a \"Census Income\" dataset. The features include age, workclass, education, and race etc. This is a supervised classification problem since the dataset has the ground truth label in the `income` column.\n",
    "\n",
    "In specific, we need to build a model to predict whether an individual's income is over $50 or not given all the features. Build an accurate model like this can be helpful in data management, e.g. predicting a missing income label.\n",
    "\n",
    "The dataset was created by Barry Becker and Ronny Kohavi from the 1994 Census database and is downloaded from the UCI ML Repository.\n",
    "\n",
    "```\n",
    "Becker,Barry and Kohavi,Ronny. (1996). Adult. UCI Machine Learning Repository. https://doi.org/10.24432/C5XW20.\n",
    "\n",
    "@misc{misc_adult_2,\n",
    "  author       = {Becker,Barry and Kohavi,Ronny},\n",
    "  title        = {{Adult}},\n",
    "  year         = {1996},\n",
    "  howpublished = {UCI Machine Learning Repository},\n",
    "  note         = {{DOI}: https://doi.org/10.24432/C5XW20}\n",
    "}\n",
    "\n",
    "```"
   ]
  },
  {
   "cell_type": "code",
   "execution_count": 183,
   "id": "7cd0f0b5",
   "metadata": {},
   "outputs": [],
   "source": [
    "import numpy as np\n",
    "import pandas as pd\n",
    "\n",
    "from sklearn.compose import ColumnTransformer\n",
    "from sklearn.model_selection import train_test_split\n",
    "from sklearn.preprocessing import LabelEncoder\n",
    "\n",
    "from sklearn.linear_model import LogisticRegression, SGDClassifier, RidgeClassifier\n",
    "from sklearn.svm import SVC\n",
    "from sklearn.tree import DecisionTreeClassifier\n",
    "from sklearn.naive_bayes import GaussianNB\n",
    "from sklearn.neighbors import KNeighborsClassifier\n",
    "from sklearn.ensemble import GradientBoostingClassifier, RandomForestClassifier, BaggingClassifier\n",
    "\n",
    "from sklearn.feature_selection import SelectPercentile, chi2\n",
    "from sklearn.impute import SimpleImputer\n",
    "from sklearn.model_selection import RandomizedSearchCV, train_test_split\n",
    "from sklearn.pipeline import Pipeline\n",
    "from sklearn.preprocessing import OneHotEncoder, StandardScaler\n",
    "\n",
    "import matplotlib.pyplot as plt\n",
    "\n",
    "from ucimlrepo import fetch_ucirepo\n",
    "\n",
    "seed = 168\n",
    "np.random.seed(seed)"
   ]
  },
  {
   "cell_type": "markdown",
   "id": "2734972c",
   "metadata": {},
   "source": [
    "# 1. EDA & Data Cleaning"
   ]
  },
  {
   "cell_type": "code",
   "execution_count": 47,
   "id": "1416719f",
   "metadata": {},
   "outputs": [],
   "source": [
    "# fetch dataset\n",
    "adult = fetch_ucirepo(id=2)\n",
    "\n",
    "# data (as pandas dataframes)\n",
    "X = adult.data.features\n",
    "y = adult.data.targets"
   ]
  },
  {
   "cell_type": "code",
   "execution_count": 48,
   "id": "54d83624",
   "metadata": {},
   "outputs": [
    {
     "data": {
      "text/html": [
       "<div>\n",
       "<style scoped>\n",
       "    .dataframe tbody tr th:only-of-type {\n",
       "        vertical-align: middle;\n",
       "    }\n",
       "\n",
       "    .dataframe tbody tr th {\n",
       "        vertical-align: top;\n",
       "    }\n",
       "\n",
       "    .dataframe thead th {\n",
       "        text-align: right;\n",
       "    }\n",
       "</style>\n",
       "<table border=\"1\" class=\"dataframe\">\n",
       "  <thead>\n",
       "    <tr style=\"text-align: right;\">\n",
       "      <th></th>\n",
       "      <th>age</th>\n",
       "      <th>workclass</th>\n",
       "      <th>fnlwgt</th>\n",
       "      <th>education</th>\n",
       "      <th>education-num</th>\n",
       "      <th>marital-status</th>\n",
       "      <th>occupation</th>\n",
       "      <th>relationship</th>\n",
       "      <th>race</th>\n",
       "      <th>sex</th>\n",
       "      <th>capital-gain</th>\n",
       "      <th>capital-loss</th>\n",
       "      <th>hours-per-week</th>\n",
       "      <th>native-country</th>\n",
       "    </tr>\n",
       "  </thead>\n",
       "  <tbody>\n",
       "    <tr>\n",
       "      <th>0</th>\n",
       "      <td>39</td>\n",
       "      <td>State-gov</td>\n",
       "      <td>77516</td>\n",
       "      <td>Bachelors</td>\n",
       "      <td>13</td>\n",
       "      <td>Never-married</td>\n",
       "      <td>Adm-clerical</td>\n",
       "      <td>Not-in-family</td>\n",
       "      <td>White</td>\n",
       "      <td>Male</td>\n",
       "      <td>2174</td>\n",
       "      <td>0</td>\n",
       "      <td>40</td>\n",
       "      <td>United-States</td>\n",
       "    </tr>\n",
       "    <tr>\n",
       "      <th>1</th>\n",
       "      <td>50</td>\n",
       "      <td>Self-emp-not-inc</td>\n",
       "      <td>83311</td>\n",
       "      <td>Bachelors</td>\n",
       "      <td>13</td>\n",
       "      <td>Married-civ-spouse</td>\n",
       "      <td>Exec-managerial</td>\n",
       "      <td>Husband</td>\n",
       "      <td>White</td>\n",
       "      <td>Male</td>\n",
       "      <td>0</td>\n",
       "      <td>0</td>\n",
       "      <td>13</td>\n",
       "      <td>United-States</td>\n",
       "    </tr>\n",
       "    <tr>\n",
       "      <th>2</th>\n",
       "      <td>38</td>\n",
       "      <td>Private</td>\n",
       "      <td>215646</td>\n",
       "      <td>HS-grad</td>\n",
       "      <td>9</td>\n",
       "      <td>Divorced</td>\n",
       "      <td>Handlers-cleaners</td>\n",
       "      <td>Not-in-family</td>\n",
       "      <td>White</td>\n",
       "      <td>Male</td>\n",
       "      <td>0</td>\n",
       "      <td>0</td>\n",
       "      <td>40</td>\n",
       "      <td>United-States</td>\n",
       "    </tr>\n",
       "    <tr>\n",
       "      <th>3</th>\n",
       "      <td>53</td>\n",
       "      <td>Private</td>\n",
       "      <td>234721</td>\n",
       "      <td>11th</td>\n",
       "      <td>7</td>\n",
       "      <td>Married-civ-spouse</td>\n",
       "      <td>Handlers-cleaners</td>\n",
       "      <td>Husband</td>\n",
       "      <td>Black</td>\n",
       "      <td>Male</td>\n",
       "      <td>0</td>\n",
       "      <td>0</td>\n",
       "      <td>40</td>\n",
       "      <td>United-States</td>\n",
       "    </tr>\n",
       "    <tr>\n",
       "      <th>4</th>\n",
       "      <td>28</td>\n",
       "      <td>Private</td>\n",
       "      <td>338409</td>\n",
       "      <td>Bachelors</td>\n",
       "      <td>13</td>\n",
       "      <td>Married-civ-spouse</td>\n",
       "      <td>Prof-specialty</td>\n",
       "      <td>Wife</td>\n",
       "      <td>Black</td>\n",
       "      <td>Female</td>\n",
       "      <td>0</td>\n",
       "      <td>0</td>\n",
       "      <td>40</td>\n",
       "      <td>Cuba</td>\n",
       "    </tr>\n",
       "  </tbody>\n",
       "</table>\n",
       "</div>"
      ],
      "text/plain": [
       "   age         workclass  fnlwgt  education  education-num  \\\n",
       "0   39         State-gov   77516  Bachelors             13   \n",
       "1   50  Self-emp-not-inc   83311  Bachelors             13   \n",
       "2   38           Private  215646    HS-grad              9   \n",
       "3   53           Private  234721       11th              7   \n",
       "4   28           Private  338409  Bachelors             13   \n",
       "\n",
       "       marital-status         occupation   relationship   race     sex  \\\n",
       "0       Never-married       Adm-clerical  Not-in-family  White    Male   \n",
       "1  Married-civ-spouse    Exec-managerial        Husband  White    Male   \n",
       "2            Divorced  Handlers-cleaners  Not-in-family  White    Male   \n",
       "3  Married-civ-spouse  Handlers-cleaners        Husband  Black    Male   \n",
       "4  Married-civ-spouse     Prof-specialty           Wife  Black  Female   \n",
       "\n",
       "   capital-gain  capital-loss  hours-per-week native-country  \n",
       "0          2174             0              40  United-States  \n",
       "1             0             0              13  United-States  \n",
       "2             0             0              40  United-States  \n",
       "3             0             0              40  United-States  \n",
       "4             0             0              40           Cuba  "
      ]
     },
     "execution_count": 48,
     "metadata": {},
     "output_type": "execute_result"
    }
   ],
   "source": [
    "X.head()"
   ]
  },
  {
   "cell_type": "code",
   "execution_count": 49,
   "id": "ddad5be5",
   "metadata": {},
   "outputs": [
    {
     "data": {
      "text/html": [
       "<div>\n",
       "<style scoped>\n",
       "    .dataframe tbody tr th:only-of-type {\n",
       "        vertical-align: middle;\n",
       "    }\n",
       "\n",
       "    .dataframe tbody tr th {\n",
       "        vertical-align: top;\n",
       "    }\n",
       "\n",
       "    .dataframe thead th {\n",
       "        text-align: right;\n",
       "    }\n",
       "</style>\n",
       "<table border=\"1\" class=\"dataframe\">\n",
       "  <thead>\n",
       "    <tr style=\"text-align: right;\">\n",
       "      <th></th>\n",
       "      <th>income</th>\n",
       "    </tr>\n",
       "  </thead>\n",
       "  <tbody>\n",
       "    <tr>\n",
       "      <th>0</th>\n",
       "      <td>&lt;=50K</td>\n",
       "    </tr>\n",
       "    <tr>\n",
       "      <th>1</th>\n",
       "      <td>&lt;=50K</td>\n",
       "    </tr>\n",
       "    <tr>\n",
       "      <th>2</th>\n",
       "      <td>&lt;=50K</td>\n",
       "    </tr>\n",
       "    <tr>\n",
       "      <th>3</th>\n",
       "      <td>&lt;=50K</td>\n",
       "    </tr>\n",
       "    <tr>\n",
       "      <th>4</th>\n",
       "      <td>&lt;=50K</td>\n",
       "    </tr>\n",
       "  </tbody>\n",
       "</table>\n",
       "</div>"
      ],
      "text/plain": [
       "  income\n",
       "0  <=50K\n",
       "1  <=50K\n",
       "2  <=50K\n",
       "3  <=50K\n",
       "4  <=50K"
      ]
     },
     "execution_count": 49,
     "metadata": {},
     "output_type": "execute_result"
    }
   ],
   "source": [
    "y.head()"
   ]
  },
  {
   "cell_type": "code",
   "execution_count": 50,
   "id": "7ed89a3e",
   "metadata": {},
   "outputs": [
    {
     "name": "stdout",
     "output_type": "stream",
     "text": [
      "<class 'pandas.core.frame.DataFrame'>\n",
      "RangeIndex: 48842 entries, 0 to 48841\n",
      "Data columns (total 14 columns):\n",
      " #   Column          Non-Null Count  Dtype \n",
      "---  ------          --------------  ----- \n",
      " 0   age             48842 non-null  int64 \n",
      " 1   workclass       47879 non-null  object\n",
      " 2   fnlwgt          48842 non-null  int64 \n",
      " 3   education       48842 non-null  object\n",
      " 4   education-num   48842 non-null  int64 \n",
      " 5   marital-status  48842 non-null  object\n",
      " 6   occupation      47876 non-null  object\n",
      " 7   relationship    48842 non-null  object\n",
      " 8   race            48842 non-null  object\n",
      " 9   sex             48842 non-null  object\n",
      " 10  capital-gain    48842 non-null  int64 \n",
      " 11  capital-loss    48842 non-null  int64 \n",
      " 12  hours-per-week  48842 non-null  int64 \n",
      " 13  native-country  48568 non-null  object\n",
      "dtypes: int64(6), object(8)\n",
      "memory usage: 5.2+ MB\n"
     ]
    }
   ],
   "source": [
    "X.info()"
   ]
  },
  {
   "cell_type": "markdown",
   "id": "5f87a502",
   "metadata": {},
   "source": [
    "There are several features that have missing values and need to be dealt with. Let's check the percentage:"
   ]
  },
  {
   "cell_type": "code",
   "execution_count": 51,
   "id": "1077dfef",
   "metadata": {},
   "outputs": [
    {
     "data": {
      "text/plain": [
       "age               0.000000\n",
       "workclass         0.019717\n",
       "fnlwgt            0.000000\n",
       "education         0.000000\n",
       "education-num     0.000000\n",
       "marital-status    0.000000\n",
       "occupation        0.019778\n",
       "relationship      0.000000\n",
       "race              0.000000\n",
       "sex               0.000000\n",
       "capital-gain      0.000000\n",
       "capital-loss      0.000000\n",
       "hours-per-week    0.000000\n",
       "native-country    0.005610\n",
       "dtype: float64"
      ]
     },
     "execution_count": 51,
     "metadata": {},
     "output_type": "execute_result"
    }
   ],
   "source": [
    "X.isnull().mean()"
   ]
  },
  {
   "cell_type": "markdown",
   "id": "afdcaf59",
   "metadata": {},
   "source": [
    "Next, examine general data characteristics and make plots to identify potential data issues, such as outliers."
   ]
  },
  {
   "cell_type": "code",
   "execution_count": 52,
   "id": "73041f7b",
   "metadata": {},
   "outputs": [
    {
     "data": {
      "text/html": [
       "<div>\n",
       "<style scoped>\n",
       "    .dataframe tbody tr th:only-of-type {\n",
       "        vertical-align: middle;\n",
       "    }\n",
       "\n",
       "    .dataframe tbody tr th {\n",
       "        vertical-align: top;\n",
       "    }\n",
       "\n",
       "    .dataframe thead th {\n",
       "        text-align: right;\n",
       "    }\n",
       "</style>\n",
       "<table border=\"1\" class=\"dataframe\">\n",
       "  <thead>\n",
       "    <tr style=\"text-align: right;\">\n",
       "      <th></th>\n",
       "      <th>age</th>\n",
       "      <th>fnlwgt</th>\n",
       "      <th>education-num</th>\n",
       "      <th>capital-gain</th>\n",
       "      <th>capital-loss</th>\n",
       "      <th>hours-per-week</th>\n",
       "    </tr>\n",
       "  </thead>\n",
       "  <tbody>\n",
       "    <tr>\n",
       "      <th>count</th>\n",
       "      <td>48842.000000</td>\n",
       "      <td>4.884200e+04</td>\n",
       "      <td>48842.000000</td>\n",
       "      <td>48842.000000</td>\n",
       "      <td>48842.000000</td>\n",
       "      <td>48842.000000</td>\n",
       "    </tr>\n",
       "    <tr>\n",
       "      <th>mean</th>\n",
       "      <td>38.643585</td>\n",
       "      <td>1.896641e+05</td>\n",
       "      <td>10.078089</td>\n",
       "      <td>1079.067626</td>\n",
       "      <td>87.502314</td>\n",
       "      <td>40.422382</td>\n",
       "    </tr>\n",
       "    <tr>\n",
       "      <th>std</th>\n",
       "      <td>13.710510</td>\n",
       "      <td>1.056040e+05</td>\n",
       "      <td>2.570973</td>\n",
       "      <td>7452.019058</td>\n",
       "      <td>403.004552</td>\n",
       "      <td>12.391444</td>\n",
       "    </tr>\n",
       "    <tr>\n",
       "      <th>min</th>\n",
       "      <td>17.000000</td>\n",
       "      <td>1.228500e+04</td>\n",
       "      <td>1.000000</td>\n",
       "      <td>0.000000</td>\n",
       "      <td>0.000000</td>\n",
       "      <td>1.000000</td>\n",
       "    </tr>\n",
       "    <tr>\n",
       "      <th>25%</th>\n",
       "      <td>28.000000</td>\n",
       "      <td>1.175505e+05</td>\n",
       "      <td>9.000000</td>\n",
       "      <td>0.000000</td>\n",
       "      <td>0.000000</td>\n",
       "      <td>40.000000</td>\n",
       "    </tr>\n",
       "    <tr>\n",
       "      <th>50%</th>\n",
       "      <td>37.000000</td>\n",
       "      <td>1.781445e+05</td>\n",
       "      <td>10.000000</td>\n",
       "      <td>0.000000</td>\n",
       "      <td>0.000000</td>\n",
       "      <td>40.000000</td>\n",
       "    </tr>\n",
       "    <tr>\n",
       "      <th>75%</th>\n",
       "      <td>48.000000</td>\n",
       "      <td>2.376420e+05</td>\n",
       "      <td>12.000000</td>\n",
       "      <td>0.000000</td>\n",
       "      <td>0.000000</td>\n",
       "      <td>45.000000</td>\n",
       "    </tr>\n",
       "    <tr>\n",
       "      <th>max</th>\n",
       "      <td>90.000000</td>\n",
       "      <td>1.490400e+06</td>\n",
       "      <td>16.000000</td>\n",
       "      <td>99999.000000</td>\n",
       "      <td>4356.000000</td>\n",
       "      <td>99.000000</td>\n",
       "    </tr>\n",
       "  </tbody>\n",
       "</table>\n",
       "</div>"
      ],
      "text/plain": [
       "                age        fnlwgt  education-num  capital-gain  capital-loss  \\\n",
       "count  48842.000000  4.884200e+04   48842.000000  48842.000000  48842.000000   \n",
       "mean      38.643585  1.896641e+05      10.078089   1079.067626     87.502314   \n",
       "std       13.710510  1.056040e+05       2.570973   7452.019058    403.004552   \n",
       "min       17.000000  1.228500e+04       1.000000      0.000000      0.000000   \n",
       "25%       28.000000  1.175505e+05       9.000000      0.000000      0.000000   \n",
       "50%       37.000000  1.781445e+05      10.000000      0.000000      0.000000   \n",
       "75%       48.000000  2.376420e+05      12.000000      0.000000      0.000000   \n",
       "max       90.000000  1.490400e+06      16.000000  99999.000000   4356.000000   \n",
       "\n",
       "       hours-per-week  \n",
       "count    48842.000000  \n",
       "mean        40.422382  \n",
       "std         12.391444  \n",
       "min          1.000000  \n",
       "25%         40.000000  \n",
       "50%         40.000000  \n",
       "75%         45.000000  \n",
       "max         99.000000  "
      ]
     },
     "execution_count": 52,
     "metadata": {},
     "output_type": "execute_result"
    }
   ],
   "source": [
    "X.describe()"
   ]
  },
  {
   "cell_type": "code",
   "execution_count": 175,
   "id": "fa31f50b",
   "metadata": {},
   "outputs": [
    {
     "data": {
      "text/plain": [
       "age                int64\n",
       "workclass         object\n",
       "fnlwgt             int64\n",
       "education-num      int64\n",
       "marital-status    object\n",
       "occupation        object\n",
       "relationship      object\n",
       "race              object\n",
       "sex               object\n",
       "capital-gain       int64\n",
       "capital-loss       int64\n",
       "hours-per-week     int64\n",
       "native-country    object\n",
       "dtype: object"
      ]
     },
     "execution_count": 175,
     "metadata": {},
     "output_type": "execute_result"
    }
   ],
   "source": [
    "X.dtypes"
   ]
  },
  {
   "cell_type": "code",
   "execution_count": 191,
   "id": "3f6051fc",
   "metadata": {
    "scrolled": false
   },
   "outputs": [
    {
     "data": {
      "image/png": "[encoded data removed]",
      "text/plain": [
       "<Figure size 1000x1000 with 6 Axes>"
      ]
     },
     "metadata": {},
     "output_type": "display_data"
    }
   ],
   "source": [
    "fig, axes = plt.subplots(nrows=3, ncols=2, figsize=(10, 10))\n",
    "axes = axes.flatten()\n",
    "i = 0\n",
    "\n",
    "for feature, dtype in X.dtypes.items():\n",
    "    if dtype != 'object':\n",
    "        axes[i].hist(X[feature])\n",
    "        axes[i].set_title(feature)\n",
    "        i += 1\n",
    "        \n",
    "plt.show()"
   ]
  },
  {
   "cell_type": "code",
   "execution_count": 199,
   "id": "882a95bd",
   "metadata": {},
   "outputs": [
    {
     "data": {
      "text/plain": [
       "<matplotlib.image.AxesImage at 0x7f8f095bbeb0>"
      ]
     },
     "execution_count": 199,
     "metadata": {},
     "output_type": "execute_result"
    },
    {
     "data": {
      "image/png": "[encoded data removed]",
      "text/plain": [
       "<Figure size 480x480 with 1 Axes>"
      ]
     },
     "metadata": {},
     "output_type": "display_data"
    }
   ],
   "source": [
    "# correlation matrix\n",
    "X_numeric = X[[k for k, v in X.dtypes.items() if v!='object']]\n",
    "plt.matshow(X_numeric.corr())"
   ]
  },
  {
   "cell_type": "markdown",
   "id": "86ca7f6e",
   "metadata": {},
   "source": [
    "The distributions are not symetrical, thus we'll use median to impute missing values for numeric features."
   ]
  },
  {
   "cell_type": "code",
   "execution_count": 68,
   "id": "89d3cb9b",
   "metadata": {},
   "outputs": [
    {
     "data": {
      "text/plain": [
       "array([13])"
      ]
     },
     "execution_count": 68,
     "metadata": {},
     "output_type": "execute_result"
    }
   ],
   "source": [
    "X.query('education==\"Bachelors\"')['education-num'].unique()"
   ]
  },
  {
   "cell_type": "code",
   "execution_count": 69,
   "id": "e5b334d4",
   "metadata": {},
   "outputs": [
    {
     "data": {
      "text/plain": [
       "array([10])"
      ]
     },
     "execution_count": 69,
     "metadata": {},
     "output_type": "execute_result"
    }
   ],
   "source": [
    "X.query('education==\"Some-college\"')['education-num'].unique()"
   ]
  },
  {
   "cell_type": "code",
   "execution_count": 70,
   "id": "a8edc860",
   "metadata": {},
   "outputs": [
    {
     "data": {
      "text/plain": [
       "array([14])"
      ]
     },
     "execution_count": 70,
     "metadata": {},
     "output_type": "execute_result"
    }
   ],
   "source": [
    "X.query('education==\"Masters\"')['education-num'].unique()"
   ]
  },
  {
   "cell_type": "markdown",
   "id": "d569a75f",
   "metadata": {},
   "source": [
    "`education` and `education-num` features are thus interchangeable, and we'll only keep `education-num`."
   ]
  },
  {
   "cell_type": "code",
   "execution_count": 71,
   "id": "21114a65",
   "metadata": {
    "scrolled": false
   },
   "outputs": [
    {
     "data": {
      "text/html": [
       "<div>\n",
       "<style scoped>\n",
       "    .dataframe tbody tr th:only-of-type {\n",
       "        vertical-align: middle;\n",
       "    }\n",
       "\n",
       "    .dataframe tbody tr th {\n",
       "        vertical-align: top;\n",
       "    }\n",
       "\n",
       "    .dataframe thead th {\n",
       "        text-align: right;\n",
       "    }\n",
       "</style>\n",
       "<table border=\"1\" class=\"dataframe\">\n",
       "  <thead>\n",
       "    <tr style=\"text-align: right;\">\n",
       "      <th></th>\n",
       "      <th>age</th>\n",
       "      <th>workclass</th>\n",
       "      <th>fnlwgt</th>\n",
       "      <th>education-num</th>\n",
       "      <th>marital-status</th>\n",
       "      <th>occupation</th>\n",
       "      <th>relationship</th>\n",
       "      <th>race</th>\n",
       "      <th>sex</th>\n",
       "      <th>capital-gain</th>\n",
       "      <th>capital-loss</th>\n",
       "      <th>hours-per-week</th>\n",
       "      <th>native-country</th>\n",
       "    </tr>\n",
       "  </thead>\n",
       "  <tbody>\n",
       "    <tr>\n",
       "      <th>0</th>\n",
       "      <td>39</td>\n",
       "      <td>State-gov</td>\n",
       "      <td>77516</td>\n",
       "      <td>13</td>\n",
       "      <td>Never-married</td>\n",
       "      <td>Adm-clerical</td>\n",
       "      <td>Not-in-family</td>\n",
       "      <td>White</td>\n",
       "      <td>Male</td>\n",
       "      <td>2174</td>\n",
       "      <td>0</td>\n",
       "      <td>40</td>\n",
       "      <td>United-States</td>\n",
       "    </tr>\n",
       "    <tr>\n",
       "      <th>1</th>\n",
       "      <td>50</td>\n",
       "      <td>Self-emp-not-inc</td>\n",
       "      <td>83311</td>\n",
       "      <td>13</td>\n",
       "      <td>Married-civ-spouse</td>\n",
       "      <td>Exec-managerial</td>\n",
       "      <td>Husband</td>\n",
       "      <td>White</td>\n",
       "      <td>Male</td>\n",
       "      <td>0</td>\n",
       "      <td>0</td>\n",
       "      <td>13</td>\n",
       "      <td>United-States</td>\n",
       "    </tr>\n",
       "    <tr>\n",
       "      <th>2</th>\n",
       "      <td>38</td>\n",
       "      <td>Private</td>\n",
       "      <td>215646</td>\n",
       "      <td>9</td>\n",
       "      <td>Divorced</td>\n",
       "      <td>Handlers-cleaners</td>\n",
       "      <td>Not-in-family</td>\n",
       "      <td>White</td>\n",
       "      <td>Male</td>\n",
       "      <td>0</td>\n",
       "      <td>0</td>\n",
       "      <td>40</td>\n",
       "      <td>United-States</td>\n",
       "    </tr>\n",
       "    <tr>\n",
       "      <th>3</th>\n",
       "      <td>53</td>\n",
       "      <td>Private</td>\n",
       "      <td>234721</td>\n",
       "      <td>7</td>\n",
       "      <td>Married-civ-spouse</td>\n",
       "      <td>Handlers-cleaners</td>\n",
       "      <td>Husband</td>\n",
       "      <td>Black</td>\n",
       "      <td>Male</td>\n",
       "      <td>0</td>\n",
       "      <td>0</td>\n",
       "      <td>40</td>\n",
       "      <td>United-States</td>\n",
       "    </tr>\n",
       "    <tr>\n",
       "      <th>4</th>\n",
       "      <td>28</td>\n",
       "      <td>Private</td>\n",
       "      <td>338409</td>\n",
       "      <td>13</td>\n",
       "      <td>Married-civ-spouse</td>\n",
       "      <td>Prof-specialty</td>\n",
       "      <td>Wife</td>\n",
       "      <td>Black</td>\n",
       "      <td>Female</td>\n",
       "      <td>0</td>\n",
       "      <td>0</td>\n",
       "      <td>40</td>\n",
       "      <td>Cuba</td>\n",
       "    </tr>\n",
       "    <tr>\n",
       "      <th>...</th>\n",
       "      <td>...</td>\n",
       "      <td>...</td>\n",
       "      <td>...</td>\n",
       "      <td>...</td>\n",
       "      <td>...</td>\n",
       "      <td>...</td>\n",
       "      <td>...</td>\n",
       "      <td>...</td>\n",
       "      <td>...</td>\n",
       "      <td>...</td>\n",
       "      <td>...</td>\n",
       "      <td>...</td>\n",
       "      <td>...</td>\n",
       "    </tr>\n",
       "    <tr>\n",
       "      <th>48837</th>\n",
       "      <td>39</td>\n",
       "      <td>Private</td>\n",
       "      <td>215419</td>\n",
       "      <td>13</td>\n",
       "      <td>Divorced</td>\n",
       "      <td>Prof-specialty</td>\n",
       "      <td>Not-in-family</td>\n",
       "      <td>White</td>\n",
       "      <td>Female</td>\n",
       "      <td>0</td>\n",
       "      <td>0</td>\n",
       "      <td>36</td>\n",
       "      <td>United-States</td>\n",
       "    </tr>\n",
       "    <tr>\n",
       "      <th>48838</th>\n",
       "      <td>64</td>\n",
       "      <td>NaN</td>\n",
       "      <td>321403</td>\n",
       "      <td>9</td>\n",
       "      <td>Widowed</td>\n",
       "      <td>NaN</td>\n",
       "      <td>Other-relative</td>\n",
       "      <td>Black</td>\n",
       "      <td>Male</td>\n",
       "      <td>0</td>\n",
       "      <td>0</td>\n",
       "      <td>40</td>\n",
       "      <td>United-States</td>\n",
       "    </tr>\n",
       "    <tr>\n",
       "      <th>48839</th>\n",
       "      <td>38</td>\n",
       "      <td>Private</td>\n",
       "      <td>374983</td>\n",
       "      <td>13</td>\n",
       "      <td>Married-civ-spouse</td>\n",
       "      <td>Prof-specialty</td>\n",
       "      <td>Husband</td>\n",
       "      <td>White</td>\n",
       "      <td>Male</td>\n",
       "      <td>0</td>\n",
       "      <td>0</td>\n",
       "      <td>50</td>\n",
       "      <td>United-States</td>\n",
       "    </tr>\n",
       "    <tr>\n",
       "      <th>48840</th>\n",
       "      <td>44</td>\n",
       "      <td>Private</td>\n",
       "      <td>83891</td>\n",
       "      <td>13</td>\n",
       "      <td>Divorced</td>\n",
       "      <td>Adm-clerical</td>\n",
       "      <td>Own-child</td>\n",
       "      <td>Asian-Pac-Islander</td>\n",
       "      <td>Male</td>\n",
       "      <td>5455</td>\n",
       "      <td>0</td>\n",
       "      <td>40</td>\n",
       "      <td>United-States</td>\n",
       "    </tr>\n",
       "    <tr>\n",
       "      <th>48841</th>\n",
       "      <td>35</td>\n",
       "      <td>Self-emp-inc</td>\n",
       "      <td>182148</td>\n",
       "      <td>13</td>\n",
       "      <td>Married-civ-spouse</td>\n",
       "      <td>Exec-managerial</td>\n",
       "      <td>Husband</td>\n",
       "      <td>White</td>\n",
       "      <td>Male</td>\n",
       "      <td>0</td>\n",
       "      <td>0</td>\n",
       "      <td>60</td>\n",
       "      <td>United-States</td>\n",
       "    </tr>\n",
       "  </tbody>\n",
       "</table>\n",
       "<p>48842 rows × 13 columns</p>\n",
       "</div>"
      ],
      "text/plain": [
       "       age         workclass  fnlwgt  education-num      marital-status  \\\n",
       "0       39         State-gov   77516             13       Never-married   \n",
       "1       50  Self-emp-not-inc   83311             13  Married-civ-spouse   \n",
       "2       38           Private  215646              9            Divorced   \n",
       "3       53           Private  234721              7  Married-civ-spouse   \n",
       "4       28           Private  338409             13  Married-civ-spouse   \n",
       "...    ...               ...     ...            ...                 ...   \n",
       "48837   39           Private  215419             13            Divorced   \n",
       "48838   64               NaN  321403              9             Widowed   \n",
       "48839   38           Private  374983             13  Married-civ-spouse   \n",
       "48840   44           Private   83891             13            Divorced   \n",
       "48841   35      Self-emp-inc  182148             13  Married-civ-spouse   \n",
       "\n",
       "              occupation    relationship                race     sex  \\\n",
       "0           Adm-clerical   Not-in-family               White    Male   \n",
       "1        Exec-managerial         Husband               White    Male   \n",
       "2      Handlers-cleaners   Not-in-family               White    Male   \n",
       "3      Handlers-cleaners         Husband               Black    Male   \n",
       "4         Prof-specialty            Wife               Black  Female   \n",
       "...                  ...             ...                 ...     ...   \n",
       "48837     Prof-specialty   Not-in-family               White  Female   \n",
       "48838                NaN  Other-relative               Black    Male   \n",
       "48839     Prof-specialty         Husband               White    Male   \n",
       "48840       Adm-clerical       Own-child  Asian-Pac-Islander    Male   \n",
       "48841    Exec-managerial         Husband               White    Male   \n",
       "\n",
       "       capital-gain  capital-loss  hours-per-week native-country  \n",
       "0              2174             0              40  United-States  \n",
       "1                 0             0              13  United-States  \n",
       "2                 0             0              40  United-States  \n",
       "3                 0             0              40  United-States  \n",
       "4                 0             0              40           Cuba  \n",
       "...             ...           ...             ...            ...  \n",
       "48837             0             0              36  United-States  \n",
       "48838             0             0              40  United-States  \n",
       "48839             0             0              50  United-States  \n",
       "48840          5455             0              40  United-States  \n",
       "48841             0             0              60  United-States  \n",
       "\n",
       "[48842 rows x 13 columns]"
      ]
     },
     "execution_count": 71,
     "metadata": {},
     "output_type": "execute_result"
    }
   ],
   "source": [
    "X.drop(columns=['education'], inplace=True)\n",
    "X"
   ]
  },
  {
   "cell_type": "markdown",
   "id": "10066e27",
   "metadata": {},
   "source": [
    "Next, check the labels."
   ]
  },
  {
   "cell_type": "code",
   "execution_count": 53,
   "id": "bf6c01e7",
   "metadata": {
    "scrolled": true
   },
   "outputs": [
    {
     "data": {
      "text/plain": [
       "income\n",
       "<=50K     0.506122\n",
       "<=50K.    0.254596\n",
       ">50K      0.160538\n",
       ">50K.     0.078744\n",
       "Name: proportion, dtype: float64"
      ]
     },
     "execution_count": 53,
     "metadata": {},
     "output_type": "execute_result"
    }
   ],
   "source": [
    "y.income.value_counts(normalize=True)"
   ]
  },
  {
   "cell_type": "markdown",
   "id": "49fb0bb7",
   "metadata": {},
   "source": [
    "Now consolidate the labels and convert to binary labels."
   ]
  },
  {
   "cell_type": "code",
   "execution_count": 54,
   "id": "d27b2482",
   "metadata": {},
   "outputs": [],
   "source": [
    "y = y.income.replace({'<=50K.': '<=50K', '>50K.': '>50K'})"
   ]
  },
  {
   "cell_type": "code",
   "execution_count": 55,
   "id": "c3c9620e",
   "metadata": {},
   "outputs": [
    {
     "data": {
      "text/plain": [
       "income\n",
       "<=50K    0.760718\n",
       ">50K     0.239282\n",
       "Name: proportion, dtype: float64"
      ]
     },
     "execution_count": 55,
     "metadata": {},
     "output_type": "execute_result"
    }
   ],
   "source": [
    "y.value_counts(normalize=True)"
   ]
  },
  {
   "cell_type": "code",
   "execution_count": 56,
   "id": "c24e8d30",
   "metadata": {},
   "outputs": [
    {
     "data": {
      "text/plain": [
       "array(['<=50K', '>50K'], dtype=object)"
      ]
     },
     "execution_count": 56,
     "metadata": {},
     "output_type": "execute_result"
    }
   ],
   "source": [
    "le = LabelEncoder()\n",
    "le.fit(y)\n",
    "le.classes_"
   ]
  },
  {
   "cell_type": "code",
   "execution_count": 57,
   "id": "86ef6886",
   "metadata": {},
   "outputs": [],
   "source": [
    "y = le.transform(y)"
   ]
  },
  {
   "cell_type": "markdown",
   "id": "f6d83dc1",
   "metadata": {},
   "source": [
    "We split the data into train, validate and test sets. As the data is imbalanced, we need to make sure the splitting is stratified based on the labels."
   ]
  },
  {
   "cell_type": "code",
   "execution_count": 72,
   "id": "760114f1",
   "metadata": {},
   "outputs": [],
   "source": [
    "X_train, X_test, y_train, y_test = train_test_split(\n",
    "    X, y, \n",
    "    test_size=0.25, \n",
    "    random_state=seed, \n",
    "    shuffle=True, \n",
    "    stratify=y\n",
    ")"
   ]
  },
  {
   "cell_type": "code",
   "execution_count": 73,
   "id": "03a98cff",
   "metadata": {},
   "outputs": [],
   "source": [
    "X_train_train, X_train_val, y_train_train, y_train_val = train_test_split(\n",
    "    X_train, y_train, \n",
    "    test_size=0.25, \n",
    "    random_state=seed, \n",
    "    shuffle=True, \n",
    "    stratify=y_train\n",
    ")"
   ]
  },
  {
   "cell_type": "code",
   "execution_count": 74,
   "id": "7abf8168",
   "metadata": {},
   "outputs": [
    {
     "data": {
      "text/plain": [
       "0.23928176569346055"
      ]
     },
     "execution_count": 74,
     "metadata": {},
     "output_type": "execute_result"
    }
   ],
   "source": [
    "y.mean()"
   ]
  },
  {
   "cell_type": "code",
   "execution_count": 75,
   "id": "e82f2477",
   "metadata": {},
   "outputs": [
    {
     "data": {
      "text/plain": [
       "0.23927820698315636"
      ]
     },
     "execution_count": 75,
     "metadata": {},
     "output_type": "execute_result"
    }
   ],
   "source": [
    "y_train.mean()"
   ]
  },
  {
   "cell_type": "code",
   "execution_count": 76,
   "id": "bf952de2",
   "metadata": {},
   "outputs": [
    {
     "data": {
      "text/plain": [
       "0.23929244124150356"
      ]
     },
     "execution_count": 76,
     "metadata": {},
     "output_type": "execute_result"
    }
   ],
   "source": [
    "y_test.mean()"
   ]
  },
  {
   "cell_type": "code",
   "execution_count": 77,
   "id": "6ead7f2b",
   "metadata": {},
   "outputs": [
    {
     "data": {
      "text/plain": [
       "(0.2392894842208714, 0.23924437650141953)"
      ]
     },
     "execution_count": 77,
     "metadata": {},
     "output_type": "execute_result"
    }
   ],
   "source": [
    "y_train_train.mean(), y_train_val.mean()"
   ]
  },
  {
   "cell_type": "markdown",
   "id": "adff9c19",
   "metadata": {},
   "source": [
    "Finally, we impute the data. For numeric features, we use the median, for categorical features, we use the mode."
   ]
  },
  {
   "cell_type": "code",
   "execution_count": 82,
   "id": "1177e1cd",
   "metadata": {},
   "outputs": [],
   "source": [
    "numeric_features = ['age', 'fnlwgt', 'education-num', 'capital-gain', 'capital-loss', 'hours-per-week', ]\n",
    "categorical_features = ['workclass', 'marital-status', 'occupation', 'relationship', 'race', 'sex', 'native-country']"
   ]
  },
  {
   "cell_type": "code",
   "execution_count": 84,
   "id": "d6faa8ae",
   "metadata": {},
   "outputs": [
    {
     "data": {
      "text/html": [
       "<div>\n",
       "<style scoped>\n",
       "    .dataframe tbody tr th:only-of-type {\n",
       "        vertical-align: middle;\n",
       "    }\n",
       "\n",
       "    .dataframe tbody tr th {\n",
       "        vertical-align: top;\n",
       "    }\n",
       "\n",
       "    .dataframe thead th {\n",
       "        text-align: right;\n",
       "    }\n",
       "</style>\n",
       "<table border=\"1\" class=\"dataframe\">\n",
       "  <thead>\n",
       "    <tr style=\"text-align: right;\">\n",
       "      <th></th>\n",
       "      <th>workclass</th>\n",
       "      <th>marital-status</th>\n",
       "      <th>occupation</th>\n",
       "      <th>relationship</th>\n",
       "      <th>race</th>\n",
       "      <th>sex</th>\n",
       "      <th>native-country</th>\n",
       "    </tr>\n",
       "  </thead>\n",
       "  <tbody>\n",
       "    <tr>\n",
       "      <th>0</th>\n",
       "      <td>State-gov</td>\n",
       "      <td>Never-married</td>\n",
       "      <td>Adm-clerical</td>\n",
       "      <td>Not-in-family</td>\n",
       "      <td>White</td>\n",
       "      <td>Male</td>\n",
       "      <td>United-States</td>\n",
       "    </tr>\n",
       "    <tr>\n",
       "      <th>1</th>\n",
       "      <td>Self-emp-not-inc</td>\n",
       "      <td>Married-civ-spouse</td>\n",
       "      <td>Exec-managerial</td>\n",
       "      <td>Husband</td>\n",
       "      <td>White</td>\n",
       "      <td>Male</td>\n",
       "      <td>United-States</td>\n",
       "    </tr>\n",
       "    <tr>\n",
       "      <th>2</th>\n",
       "      <td>Private</td>\n",
       "      <td>Divorced</td>\n",
       "      <td>Handlers-cleaners</td>\n",
       "      <td>Not-in-family</td>\n",
       "      <td>White</td>\n",
       "      <td>Male</td>\n",
       "      <td>United-States</td>\n",
       "    </tr>\n",
       "    <tr>\n",
       "      <th>3</th>\n",
       "      <td>Private</td>\n",
       "      <td>Married-civ-spouse</td>\n",
       "      <td>Handlers-cleaners</td>\n",
       "      <td>Husband</td>\n",
       "      <td>Black</td>\n",
       "      <td>Male</td>\n",
       "      <td>United-States</td>\n",
       "    </tr>\n",
       "    <tr>\n",
       "      <th>4</th>\n",
       "      <td>Private</td>\n",
       "      <td>Married-civ-spouse</td>\n",
       "      <td>Prof-specialty</td>\n",
       "      <td>Wife</td>\n",
       "      <td>Black</td>\n",
       "      <td>Female</td>\n",
       "      <td>Cuba</td>\n",
       "    </tr>\n",
       "    <tr>\n",
       "      <th>...</th>\n",
       "      <td>...</td>\n",
       "      <td>...</td>\n",
       "      <td>...</td>\n",
       "      <td>...</td>\n",
       "      <td>...</td>\n",
       "      <td>...</td>\n",
       "      <td>...</td>\n",
       "    </tr>\n",
       "    <tr>\n",
       "      <th>48837</th>\n",
       "      <td>Private</td>\n",
       "      <td>Divorced</td>\n",
       "      <td>Prof-specialty</td>\n",
       "      <td>Not-in-family</td>\n",
       "      <td>White</td>\n",
       "      <td>Female</td>\n",
       "      <td>United-States</td>\n",
       "    </tr>\n",
       "    <tr>\n",
       "      <th>48838</th>\n",
       "      <td>NaN</td>\n",
       "      <td>Widowed</td>\n",
       "      <td>NaN</td>\n",
       "      <td>Other-relative</td>\n",
       "      <td>Black</td>\n",
       "      <td>Male</td>\n",
       "      <td>United-States</td>\n",
       "    </tr>\n",
       "    <tr>\n",
       "      <th>48839</th>\n",
       "      <td>Private</td>\n",
       "      <td>Married-civ-spouse</td>\n",
       "      <td>Prof-specialty</td>\n",
       "      <td>Husband</td>\n",
       "      <td>White</td>\n",
       "      <td>Male</td>\n",
       "      <td>United-States</td>\n",
       "    </tr>\n",
       "    <tr>\n",
       "      <th>48840</th>\n",
       "      <td>Private</td>\n",
       "      <td>Divorced</td>\n",
       "      <td>Adm-clerical</td>\n",
       "      <td>Own-child</td>\n",
       "      <td>Asian-Pac-Islander</td>\n",
       "      <td>Male</td>\n",
       "      <td>United-States</td>\n",
       "    </tr>\n",
       "    <tr>\n",
       "      <th>48841</th>\n",
       "      <td>Self-emp-inc</td>\n",
       "      <td>Married-civ-spouse</td>\n",
       "      <td>Exec-managerial</td>\n",
       "      <td>Husband</td>\n",
       "      <td>White</td>\n",
       "      <td>Male</td>\n",
       "      <td>United-States</td>\n",
       "    </tr>\n",
       "  </tbody>\n",
       "</table>\n",
       "<p>48842 rows × 7 columns</p>\n",
       "</div>"
      ],
      "text/plain": [
       "              workclass      marital-status         occupation  \\\n",
       "0             State-gov       Never-married       Adm-clerical   \n",
       "1      Self-emp-not-inc  Married-civ-spouse    Exec-managerial   \n",
       "2               Private            Divorced  Handlers-cleaners   \n",
       "3               Private  Married-civ-spouse  Handlers-cleaners   \n",
       "4               Private  Married-civ-spouse     Prof-specialty   \n",
       "...                 ...                 ...                ...   \n",
       "48837           Private            Divorced     Prof-specialty   \n",
       "48838               NaN             Widowed                NaN   \n",
       "48839           Private  Married-civ-spouse     Prof-specialty   \n",
       "48840           Private            Divorced       Adm-clerical   \n",
       "48841      Self-emp-inc  Married-civ-spouse    Exec-managerial   \n",
       "\n",
       "         relationship                race     sex native-country  \n",
       "0       Not-in-family               White    Male  United-States  \n",
       "1             Husband               White    Male  United-States  \n",
       "2       Not-in-family               White    Male  United-States  \n",
       "3             Husband               Black    Male  United-States  \n",
       "4                Wife               Black  Female           Cuba  \n",
       "...               ...                 ...     ...            ...  \n",
       "48837   Not-in-family               White  Female  United-States  \n",
       "48838  Other-relative               Black    Male  United-States  \n",
       "48839         Husband               White    Male  United-States  \n",
       "48840       Own-child  Asian-Pac-Islander    Male  United-States  \n",
       "48841         Husband               White    Male  United-States  \n",
       "\n",
       "[48842 rows x 7 columns]"
      ]
     },
     "execution_count": 84,
     "metadata": {},
     "output_type": "execute_result"
    }
   ],
   "source": [
    "X[categorical_features]"
   ]
  },
  {
   "cell_type": "code",
   "execution_count": 106,
   "id": "be6fca13",
   "metadata": {},
   "outputs": [],
   "source": [
    "numeric_transformer = Pipeline(\n",
    "    steps=[\n",
    "        (\"imputer\", SimpleImputer(strategy=\"median\")), \n",
    "        #(\"scaler\", StandardScaler())\n",
    "    ]\n",
    ")\n",
    "\n",
    "categorical_transformer = Pipeline(\n",
    "    steps=[\n",
    "        (\"imputer\", SimpleImputer(strategy=\"most_frequent\")), \n",
    "        (\"encoder\", OneHotEncoder(handle_unknown=\"ignore\")),\n",
    "        #(\"selector\", SelectPercentile(chi2, percentile=50)),\n",
    "    ]\n",
    ")\n",
    "\n",
    "preprocessor = ColumnTransformer(\n",
    "    transformers=[\n",
    "        (\"num\", numeric_transformer, numeric_features),\n",
    "        (\"cat\", categorical_transformer, categorical_features),\n",
    "    ]\n",
    ")"
   ]
  },
  {
   "cell_type": "code",
   "execution_count": 107,
   "id": "d0348fdd",
   "metadata": {},
   "outputs": [
    {
     "data": {
      "text/plain": [
       "array([[4.80000e+01, 3.44415e+05, 1.30000e+01, 0.00000e+00, 0.00000e+00,\n",
       "        3.70000e+01, 0.00000e+00, 1.00000e+00, 0.00000e+00, 0.00000e+00,\n",
       "        0.00000e+00, 1.00000e+00, 0.00000e+00, 0.00000e+00, 0.00000e+00,\n",
       "        0.00000e+00, 0.00000e+00, 1.00000e+00, 0.00000e+00, 0.00000e+00,\n",
       "        0.00000e+00, 0.00000e+00, 1.00000e+00, 0.00000e+00, 0.00000e+00,\n",
       "        1.00000e+00, 0.00000e+00, 1.00000e+00, 0.00000e+00, 1.00000e+00],\n",
       "       [3.30000e+01, 6.31840e+04, 9.00000e+00, 0.00000e+00, 0.00000e+00,\n",
       "        4.00000e+01, 0.00000e+00, 1.00000e+00, 0.00000e+00, 0.00000e+00,\n",
       "        0.00000e+00, 0.00000e+00, 1.00000e+00, 0.00000e+00, 0.00000e+00,\n",
       "        1.00000e+00, 0.00000e+00, 0.00000e+00, 0.00000e+00, 0.00000e+00,\n",
       "        0.00000e+00, 0.00000e+00, 1.00000e+00, 0.00000e+00, 0.00000e+00,\n",
       "        1.00000e+00, 0.00000e+00, 1.00000e+00, 0.00000e+00, 1.00000e+00],\n",
       "       [6.70000e+01, 1.62009e+05, 6.00000e+00, 0.00000e+00, 0.00000e+00,\n",
       "        1.60000e+01, 0.00000e+00, 1.00000e+00, 0.00000e+00, 0.00000e+00,\n",
       "        1.00000e+00, 0.00000e+00, 0.00000e+00, 0.00000e+00, 0.00000e+00,\n",
       "        0.00000e+00, 0.00000e+00, 0.00000e+00, 1.00000e+00, 0.00000e+00,\n",
       "        0.00000e+00, 1.00000e+00, 0.00000e+00, 0.00000e+00, 0.00000e+00,\n",
       "        1.00000e+00, 0.00000e+00, 1.00000e+00, 0.00000e+00, 1.00000e+00],\n",
       "       [3.80000e+01, 2.53716e+05, 9.00000e+00, 0.00000e+00, 0.00000e+00,\n",
       "        4.00000e+01, 0.00000e+00, 1.00000e+00, 0.00000e+00, 1.00000e+00,\n",
       "        0.00000e+00, 0.00000e+00, 0.00000e+00, 0.00000e+00, 1.00000e+00,\n",
       "        0.00000e+00, 0.00000e+00, 0.00000e+00, 0.00000e+00, 0.00000e+00,\n",
       "        0.00000e+00, 0.00000e+00, 1.00000e+00, 0.00000e+00, 0.00000e+00,\n",
       "        1.00000e+00, 0.00000e+00, 1.00000e+00, 0.00000e+00, 1.00000e+00],\n",
       "       [2.70000e+01, 9.12570e+04, 9.00000e+00, 0.00000e+00, 0.00000e+00,\n",
       "        4.00000e+01, 0.00000e+00, 1.00000e+00, 0.00000e+00, 0.00000e+00,\n",
       "        1.00000e+00, 0.00000e+00, 0.00000e+00, 0.00000e+00, 0.00000e+00,\n",
       "        0.00000e+00, 1.00000e+00, 0.00000e+00, 0.00000e+00, 0.00000e+00,\n",
       "        0.00000e+00, 1.00000e+00, 0.00000e+00, 0.00000e+00, 0.00000e+00,\n",
       "        1.00000e+00, 0.00000e+00, 1.00000e+00, 1.00000e+00, 0.00000e+00],\n",
       "       [3.80000e+01, 3.31609e+05, 1.00000e+01, 0.00000e+00, 0.00000e+00,\n",
       "        4.70000e+01, 1.00000e+00, 0.00000e+00, 0.00000e+00, 0.00000e+00,\n",
       "        0.00000e+00, 0.00000e+00, 0.00000e+00, 1.00000e+00, 0.00000e+00,\n",
       "        0.00000e+00, 0.00000e+00, 0.00000e+00, 0.00000e+00, 0.00000e+00,\n",
       "        1.00000e+00, 0.00000e+00, 1.00000e+00, 0.00000e+00, 1.00000e+00,\n",
       "        0.00000e+00, 1.00000e+00, 0.00000e+00, 0.00000e+00, 1.00000e+00],\n",
       "       [2.00000e+01, 2.98227e+05, 1.00000e+01, 0.00000e+00, 0.00000e+00,\n",
       "        3.50000e+01, 0.00000e+00, 1.00000e+00, 0.00000e+00, 0.00000e+00,\n",
       "        0.00000e+00, 0.00000e+00, 1.00000e+00, 0.00000e+00, 0.00000e+00,\n",
       "        0.00000e+00, 0.00000e+00, 0.00000e+00, 0.00000e+00, 1.00000e+00,\n",
       "        0.00000e+00, 0.00000e+00, 1.00000e+00, 0.00000e+00, 0.00000e+00,\n",
       "        1.00000e+00, 0.00000e+00, 1.00000e+00, 0.00000e+00, 1.00000e+00],\n",
       "       [4.80000e+01, 2.84970e+04, 9.00000e+00, 0.00000e+00, 0.00000e+00,\n",
       "        4.00000e+01, 0.00000e+00, 1.00000e+00, 0.00000e+00, 0.00000e+00,\n",
       "        1.00000e+00, 0.00000e+00, 0.00000e+00, 0.00000e+00, 1.00000e+00,\n",
       "        0.00000e+00, 0.00000e+00, 0.00000e+00, 0.00000e+00, 0.00000e+00,\n",
       "        0.00000e+00, 1.00000e+00, 0.00000e+00, 0.00000e+00, 0.00000e+00,\n",
       "        1.00000e+00, 0.00000e+00, 1.00000e+00, 0.00000e+00, 1.00000e+00],\n",
       "       [2.00000e+01, 1.80339e+05, 9.00000e+00, 0.00000e+00, 0.00000e+00,\n",
       "        3.50000e+01, 0.00000e+00, 1.00000e+00, 0.00000e+00, 0.00000e+00,\n",
       "        0.00000e+00, 0.00000e+00, 1.00000e+00, 0.00000e+00, 0.00000e+00,\n",
       "        0.00000e+00, 1.00000e+00, 0.00000e+00, 0.00000e+00, 0.00000e+00,\n",
       "        0.00000e+00, 0.00000e+00, 0.00000e+00, 1.00000e+00, 0.00000e+00,\n",
       "        1.00000e+00, 1.00000e+00, 0.00000e+00, 0.00000e+00, 1.00000e+00],\n",
       "       [4.40000e+01, 5.53950e+04, 9.00000e+00, 0.00000e+00, 0.00000e+00,\n",
       "        4.00000e+01, 0.00000e+00, 0.00000e+00, 1.00000e+00, 0.00000e+00,\n",
       "        0.00000e+00, 0.00000e+00, 1.00000e+00, 0.00000e+00, 1.00000e+00,\n",
       "        0.00000e+00, 0.00000e+00, 0.00000e+00, 0.00000e+00, 0.00000e+00,\n",
       "        0.00000e+00, 0.00000e+00, 1.00000e+00, 0.00000e+00, 0.00000e+00,\n",
       "        1.00000e+00, 0.00000e+00, 1.00000e+00, 0.00000e+00, 1.00000e+00]])"
      ]
     },
     "execution_count": 107,
     "metadata": {},
     "output_type": "execute_result"
    }
   ],
   "source": [
    "preprocessor.fit_transform(X_train.sample(10))"
   ]
  },
  {
   "cell_type": "code",
   "execution_count": 129,
   "id": "ae3dbb50",
   "metadata": {},
   "outputs": [],
   "source": [
    "sample_size = 1000\n",
    "sample_idx = np.random.randint(low=0, high=X_train_train.shape[0], size=sample_size)\n",
    "X_sample, y_sample = X_train_train.iloc[sample_idx, :], y_train_train[sample_idx]"
   ]
  },
  {
   "cell_type": "code",
   "execution_count": 130,
   "id": "44b6478f",
   "metadata": {},
   "outputs": [
    {
     "data": {
      "text/plain": [
       "((1000, 13), (1000,))"
      ]
     },
     "execution_count": 130,
     "metadata": {},
     "output_type": "execute_result"
    }
   ],
   "source": [
    "X_sample.shape, y_sample.shape"
   ]
  },
  {
   "cell_type": "code",
   "execution_count": 140,
   "id": "7e42055c",
   "metadata": {},
   "outputs": [],
   "source": [
    "train_X = preprocessor.fit_transform(X_train_train)\n",
    "val_X = preprocessor.transform(X_train_val)\n",
    "train_y, val_y = y_train_train, y_train_val"
   ]
  },
  {
   "cell_type": "markdown",
   "id": "1e38e151",
   "metadata": {},
   "source": [
    "# 2. Modeling"
   ]
  },
  {
   "cell_type": "markdown",
   "id": "772e577f",
   "metadata": {},
   "source": [
    "First, let's spot-check different types of algorithms to see which one works best with this dataset."
   ]
  },
  {
   "cell_type": "code",
   "execution_count": 145,
   "id": "04fc2b3a",
   "metadata": {},
   "outputs": [],
   "source": [
    "algos = {\n",
    "    'lr': LogisticRegression(),\n",
    "    'sgd': SGDClassifier(),\n",
    "    'rg': RidgeClassifier(),\n",
    "    'svc': SVC(),\n",
    "    'dt': DecisionTreeClassifier(),\n",
    "    'gnb': GaussianNB(),\n",
    "    'knn': KNeighborsClassifier(),\n",
    "    'gb': GradientBoostingClassifier(),\n",
    "    'rf': RandomForestClassifier(),\n",
    "    'bg': BaggingClassifier()\n",
    "}\n",
    "\n",
    "results = {}\n",
    "\n",
    "for algo, clf in algos.items():\n",
    "    try:\n",
    "        clf.fit(train_X, train_y)\n",
    "        score = clf.score(val_X, val_y)\n",
    "        results[algo] = score\n",
    "    except:\n",
    "        results[algo] = None"
   ]
  },
  {
   "cell_type": "code",
   "execution_count": 148,
   "id": "abe50daf",
   "metadata": {},
   "outputs": [
    {
     "data": {
      "text/plain": [
       "gb     0.863944\n",
       "rf     0.852042\n",
       "bg     0.848439\n",
       "rg     0.829220\n",
       "dt     0.810002\n",
       "lr     0.797117\n",
       "svc    0.796244\n",
       "knn    0.776916\n",
       "sgd    0.239244\n",
       "gnb         NaN\n",
       "dtype: float64"
      ]
     },
     "execution_count": 148,
     "metadata": {},
     "output_type": "execute_result"
    }
   ],
   "source": [
    "pd.Series(results).sort_values(ascending=False)"
   ]
  },
  {
   "cell_type": "markdown",
   "id": "57055384",
   "metadata": {},
   "source": [
    "Ensemble models seem to be the top performers, out of which Gradient Boosting is the best.\n",
    "\n",
    "Next, add standard scaling to numeric features and test again."
   ]
  },
  {
   "cell_type": "code",
   "execution_count": 149,
   "id": "dd6f3d91",
   "metadata": {},
   "outputs": [
    {
     "name": "stderr",
     "output_type": "stream",
     "text": [
      "/home/george/anaconda3/envs/ml-project-env/lib/python3.10/site-packages/sklearn/linear_model/_logistic.py:460: ConvergenceWarning: lbfgs failed to converge (status=1):\n",
      "STOP: TOTAL NO. of ITERATIONS REACHED LIMIT.\n",
      "\n",
      "Increase the number of iterations (max_iter) or scale the data as shown in:\n",
      "    https://scikit-learn.org/stable/modules/preprocessing.html\n",
      "Please also refer to the documentation for alternative solver options:\n",
      "    https://scikit-learn.org/stable/modules/linear_model.html#logistic-regression\n",
      "  n_iter_i = _check_optimize_result(\n"
     ]
    },
    {
     "data": {
      "text/plain": [
       "gb     0.863944\n",
       "svc    0.857938\n",
       "rf     0.854117\n",
       "lr     0.851059\n",
       "sgd    0.848329\n",
       "bg     0.847347\n",
       "rg     0.839048\n",
       "knn    0.832605\n",
       "dt     0.811422\n",
       "gnb         NaN\n",
       "dtype: float64"
      ]
     },
     "execution_count": 149,
     "metadata": {},
     "output_type": "execute_result"
    }
   ],
   "source": [
    "numeric_transformer = Pipeline(\n",
    "    steps=[\n",
    "        (\"imputer\", SimpleImputer(strategy=\"median\")), \n",
    "        (\"scaler\", StandardScaler())\n",
    "    ]\n",
    ")\n",
    "\n",
    "categorical_transformer = Pipeline(\n",
    "    steps=[\n",
    "        (\"imputer\", SimpleImputer(strategy=\"most_frequent\")), \n",
    "        (\"encoder\", OneHotEncoder(handle_unknown=\"ignore\")),\n",
    "        #(\"selector\", SelectPercentile(chi2, percentile=50)),\n",
    "    ]\n",
    ")\n",
    "\n",
    "preprocessor = ColumnTransformer(\n",
    "    transformers=[\n",
    "        (\"num\", numeric_transformer, numeric_features),\n",
    "        (\"cat\", categorical_transformer, categorical_features),\n",
    "    ]\n",
    ")\n",
    "\n",
    "train_X = preprocessor.fit_transform(X_train_train)\n",
    "val_X = preprocessor.transform(X_train_val)\n",
    "train_y, val_y = y_train_train, y_train_val\n",
    "\n",
    "results = {}\n",
    "\n",
    "for algo, clf in algos.items():\n",
    "    try:\n",
    "        clf.fit(train_X, train_y)\n",
    "        score = clf.score(val_X, val_y)\n",
    "        results[algo] = score\n",
    "    except:\n",
    "        results[algo] = None\n",
    "\n",
    "pd.Series(results).sort_values(ascending=False)"
   ]
  },
  {
   "cell_type": "markdown",
   "id": "d36fe192",
   "metadata": {},
   "source": [
    "The effect is negligible, so we'll skip standard scaling. Now use the Gradient Boosting algorithm to build the best model by fine tuning hyperparamters."
   ]
  },
  {
   "cell_type": "code",
   "execution_count": 150,
   "id": "fd7b0064",
   "metadata": {},
   "outputs": [],
   "source": [
    "numeric_transformer = Pipeline(\n",
    "    steps=[\n",
    "        (\"imputer\", SimpleImputer(strategy=\"median\"))\n",
    "    ]\n",
    ")\n",
    "\n",
    "categorical_transformer = Pipeline(\n",
    "    steps=[\n",
    "        (\"imputer\", SimpleImputer(strategy=\"most_frequent\")), \n",
    "        (\"encoder\", OneHotEncoder(handle_unknown=\"ignore\")),\n",
    "    ]\n",
    ")\n",
    "\n",
    "preprocessor = ColumnTransformer(\n",
    "    transformers=[\n",
    "        (\"num\", numeric_transformer, numeric_features),\n",
    "        (\"cat\", categorical_transformer, categorical_features),\n",
    "    ]\n",
    ")\n",
    "\n",
    "train_X = preprocessor.fit_transform(X_train_train)\n",
    "val_X = preprocessor.transform(X_train_val)\n",
    "train_y, val_y = y_train_train, y_train_val"
   ]
  },
  {
   "cell_type": "code",
   "execution_count": 153,
   "id": "96046336",
   "metadata": {
    "scrolled": true
   },
   "outputs": [
    {
     "name": "stdout",
     "output_type": "stream",
     "text": [
      "Fitting 5 folds for each of 100 candidates, totalling 500 fits\n",
      "[CV] END learning_rate=0.1, loss=log_loss, max_depth=3, max_features=sqrt, min_samples_leaf=1, min_samples_split=4, n_estimators=1000, subsample=0.9; total time=   4.1s\n",
      "[CV] END learning_rate=0.1, loss=log_loss, max_depth=3, max_features=sqrt, min_samples_leaf=1, min_samples_split=4, n_estimators=1000, subsample=0.9; total time=   4.1s\n",
      "[CV] END learning_rate=0.1, loss=log_loss, max_depth=3, max_features=sqrt, min_samples_leaf=1, min_samples_split=4, n_estimators=1000, subsample=0.9; total time=   4.2s\n",
      "[CV] END learning_rate=0.1, loss=log_loss, max_depth=3, max_features=sqrt, min_samples_leaf=1, min_samples_split=4, n_estimators=1000, subsample=0.9; total time=   4.1s\n",
      "[CV] END learning_rate=0.1, loss=log_loss, max_depth=3, max_features=sqrt, min_samples_leaf=1, min_samples_split=4, n_estimators=1000, subsample=0.9; total time=   4.1s\n",
      "[CV] END learning_rate=0.9, loss=log_loss, max_depth=5, max_features=sqrt, min_samples_leaf=1, min_samples_split=10, n_estimators=10, subsample=0.9; total time=   0.1s\n",
      "[CV] END learning_rate=0.9, loss=log_loss, max_depth=5, max_features=sqrt, min_samples_leaf=1, min_samples_split=10, n_estimators=10, subsample=0.9; total time=   0.1s\n",
      "[CV] END learning_rate=0.9, loss=log_loss, max_depth=5, max_features=sqrt, min_samples_leaf=1, min_samples_split=10, n_estimators=10, subsample=0.9; total time=   0.1s\n",
      "[CV] END learning_rate=0.9, loss=log_loss, max_depth=5, max_features=sqrt, min_samples_leaf=1, min_samples_split=10, n_estimators=10, subsample=0.9; total time=   0.1s\n",
      "[CV] END learning_rate=0.9, loss=log_loss, max_depth=5, max_features=sqrt, min_samples_leaf=1, min_samples_split=10, n_estimators=10, subsample=0.9; total time=   0.1s\n",
      "[CV] END learning_rate=0.01, loss=log_loss, max_depth=2, max_features=sqrt, min_samples_leaf=5, min_samples_split=20, n_estimators=10, subsample=0.6; total time=   0.0s\n",
      "[CV] END learning_rate=0.01, loss=log_loss, max_depth=2, max_features=sqrt, min_samples_leaf=5, min_samples_split=20, n_estimators=10, subsample=0.6; total time=   0.0s\n",
      "[CV] END learning_rate=0.01, loss=log_loss, max_depth=2, max_features=sqrt, min_samples_leaf=5, min_samples_split=20, n_estimators=10, subsample=0.6; total time=   0.0s\n",
      "[CV] END learning_rate=0.01, loss=log_loss, max_depth=2, max_features=sqrt, min_samples_leaf=5, min_samples_split=20, n_estimators=10, subsample=0.6; total time=   0.0s\n",
      "[CV] END learning_rate=0.01, loss=log_loss, max_depth=2, max_features=sqrt, min_samples_leaf=5, min_samples_split=20, n_estimators=10, subsample=0.6; total time=   0.0s\n",
      "[CV] END learning_rate=0.9, loss=log_loss, max_depth=2, max_features=sqrt, min_samples_leaf=1, min_samples_split=10, n_estimators=10, subsample=0.6; total time=   0.0s\n",
      "[CV] END learning_rate=0.9, loss=log_loss, max_depth=2, max_features=sqrt, min_samples_leaf=1, min_samples_split=10, n_estimators=10, subsample=0.6; total time=   0.0s\n",
      "[CV] END learning_rate=0.9, loss=log_loss, max_depth=2, max_features=sqrt, min_samples_leaf=1, min_samples_split=10, n_estimators=10, subsample=0.6; total time=   0.0s\n",
      "[CV] END learning_rate=0.9, loss=log_loss, max_depth=2, max_features=sqrt, min_samples_leaf=1, min_samples_split=10, n_estimators=10, subsample=0.6; total time=   0.0s\n",
      "[CV] END learning_rate=0.9, loss=log_loss, max_depth=2, max_features=sqrt, min_samples_leaf=1, min_samples_split=10, n_estimators=10, subsample=0.6; total time=   0.0s\n",
      "[CV] END learning_rate=0.1, loss=exponential, max_depth=3, max_features=log2, min_samples_leaf=3, min_samples_split=20, n_estimators=100, subsample=0.2; total time=   0.3s\n",
      "[CV] END learning_rate=0.1, loss=exponential, max_depth=3, max_features=log2, min_samples_leaf=3, min_samples_split=20, n_estimators=100, subsample=0.2; total time=   0.3s\n",
      "[CV] END learning_rate=0.1, loss=exponential, max_depth=3, max_features=log2, min_samples_leaf=3, min_samples_split=20, n_estimators=100, subsample=0.2; total time=   0.3s\n",
      "[CV] END learning_rate=0.1, loss=exponential, max_depth=3, max_features=log2, min_samples_leaf=3, min_samples_split=20, n_estimators=100, subsample=0.2; total time=   0.3s\n",
      "[CV] END learning_rate=0.1, loss=exponential, max_depth=3, max_features=log2, min_samples_leaf=3, min_samples_split=20, n_estimators=100, subsample=0.2; total time=   0.3s\n",
      "[CV] END learning_rate=0.9, loss=log_loss, max_depth=4, max_features=log2, min_samples_leaf=3, min_samples_split=5, n_estimators=10, subsample=0.9; total time=   0.0s\n",
      "[CV] END learning_rate=0.9, loss=log_loss, max_depth=4, max_features=log2, min_samples_leaf=3, min_samples_split=5, n_estimators=10, subsample=0.9; total time=   0.1s\n",
      "[CV] END learning_rate=0.9, loss=log_loss, max_depth=4, max_features=log2, min_samples_leaf=3, min_samples_split=5, n_estimators=10, subsample=0.9; total time=   0.1s\n",
      "[CV] END learning_rate=0.9, loss=log_loss, max_depth=4, max_features=log2, min_samples_leaf=3, min_samples_split=5, n_estimators=10, subsample=0.9; total time=   0.1s\n",
      "[CV] END learning_rate=0.9, loss=log_loss, max_depth=4, max_features=log2, min_samples_leaf=3, min_samples_split=5, n_estimators=10, subsample=0.9; total time=   0.1s\n",
      "[CV] END learning_rate=0.01, loss=log_loss, max_depth=1, max_features=sqrt, min_samples_leaf=5, min_samples_split=4, n_estimators=1000, subsample=0.9; total time=   2.8s\n",
      "[CV] END learning_rate=0.01, loss=log_loss, max_depth=1, max_features=sqrt, min_samples_leaf=5, min_samples_split=4, n_estimators=1000, subsample=0.9; total time=   2.8s\n",
      "[CV] END learning_rate=0.01, loss=log_loss, max_depth=1, max_features=sqrt, min_samples_leaf=5, min_samples_split=4, n_estimators=1000, subsample=0.9; total time=   2.9s\n",
      "[CV] END learning_rate=0.01, loss=log_loss, max_depth=1, max_features=sqrt, min_samples_leaf=5, min_samples_split=4, n_estimators=1000, subsample=0.9; total time=   2.8s\n",
      "[CV] END learning_rate=0.01, loss=log_loss, max_depth=1, max_features=sqrt, min_samples_leaf=5, min_samples_split=4, n_estimators=1000, subsample=0.9; total time=   2.8s\n",
      "[CV] END learning_rate=0.01, loss=log_loss, max_depth=5, max_features=log2, min_samples_leaf=5, min_samples_split=10, n_estimators=1000, subsample=0.9; total time=   5.5s\n",
      "[CV] END learning_rate=0.01, loss=log_loss, max_depth=5, max_features=log2, min_samples_leaf=5, min_samples_split=10, n_estimators=1000, subsample=0.9; total time=   5.5s\n",
      "[CV] END learning_rate=0.01, loss=log_loss, max_depth=5, max_features=log2, min_samples_leaf=5, min_samples_split=10, n_estimators=1000, subsample=0.9; total time=   5.6s\n",
      "[CV] END learning_rate=0.01, loss=log_loss, max_depth=5, max_features=log2, min_samples_leaf=5, min_samples_split=10, n_estimators=1000, subsample=0.9; total time=   5.4s\n",
      "[CV] END learning_rate=0.01, loss=log_loss, max_depth=5, max_features=log2, min_samples_leaf=5, min_samples_split=10, n_estimators=1000, subsample=0.9; total time=   5.5s\n",
      "[CV] END learning_rate=0.6, loss=log_loss, max_depth=3, max_features=sqrt, min_samples_leaf=3, min_samples_split=5, n_estimators=100, subsample=0.9; total time=   0.4s\n",
      "[CV] END learning_rate=0.6, loss=log_loss, max_depth=3, max_features=sqrt, min_samples_leaf=3, min_samples_split=5, n_estimators=100, subsample=0.9; total time=   0.4s\n",
      "[CV] END learning_rate=0.6, loss=log_loss, max_depth=3, max_features=sqrt, min_samples_leaf=3, min_samples_split=5, n_estimators=100, subsample=0.9; total time=   0.4s\n",
      "[CV] END learning_rate=0.6, loss=log_loss, max_depth=3, max_features=sqrt, min_samples_leaf=3, min_samples_split=5, n_estimators=100, subsample=0.9; total time=   0.4s\n",
      "[CV] END learning_rate=0.6, loss=log_loss, max_depth=3, max_features=sqrt, min_samples_leaf=3, min_samples_split=5, n_estimators=100, subsample=0.9; total time=   0.4s\n",
      "[CV] END learning_rate=0.5, loss=exponential, max_depth=5, max_features=log2, min_samples_leaf=5, min_samples_split=20, n_estimators=100, subsample=0.1; total time=   0.3s\n",
      "[CV] END learning_rate=0.5, loss=exponential, max_depth=5, max_features=log2, min_samples_leaf=5, min_samples_split=20, n_estimators=100, subsample=0.1; total time=   0.3s\n",
      "[CV] END learning_rate=0.5, loss=exponential, max_depth=5, max_features=log2, min_samples_leaf=5, min_samples_split=20, n_estimators=100, subsample=0.1; total time=   0.3s\n",
      "[CV] END learning_rate=0.5, loss=exponential, max_depth=5, max_features=log2, min_samples_leaf=5, min_samples_split=20, n_estimators=100, subsample=0.1; total time=   0.3s\n"
     ]
    },
    {
     "name": "stdout",
     "output_type": "stream",
     "text": [
      "[CV] END learning_rate=0.5, loss=exponential, max_depth=5, max_features=log2, min_samples_leaf=5, min_samples_split=20, n_estimators=100, subsample=0.1; total time=   0.3s\n",
      "[CV] END learning_rate=0.001, loss=exponential, max_depth=5, max_features=log2, min_samples_leaf=5, min_samples_split=5, n_estimators=10, subsample=0.5; total time=   0.1s\n",
      "[CV] END learning_rate=0.001, loss=exponential, max_depth=5, max_features=log2, min_samples_leaf=5, min_samples_split=5, n_estimators=10, subsample=0.5; total time=   0.1s\n",
      "[CV] END learning_rate=0.001, loss=exponential, max_depth=5, max_features=log2, min_samples_leaf=5, min_samples_split=5, n_estimators=10, subsample=0.5; total time=   0.1s\n",
      "[CV] END learning_rate=0.001, loss=exponential, max_depth=5, max_features=log2, min_samples_leaf=5, min_samples_split=5, n_estimators=10, subsample=0.5; total time=   0.1s\n",
      "[CV] END learning_rate=0.001, loss=exponential, max_depth=5, max_features=log2, min_samples_leaf=5, min_samples_split=5, n_estimators=10, subsample=0.5; total time=   0.1s\n",
      "[CV] END learning_rate=0.9, loss=exponential, max_depth=4, max_features=log2, min_samples_leaf=2, min_samples_split=4, n_estimators=100, subsample=0.9; total time=   0.4s\n",
      "[CV] END learning_rate=0.9, loss=exponential, max_depth=4, max_features=log2, min_samples_leaf=2, min_samples_split=4, n_estimators=100, subsample=0.9; total time=   0.4s\n",
      "[CV] END learning_rate=0.9, loss=exponential, max_depth=4, max_features=log2, min_samples_leaf=2, min_samples_split=4, n_estimators=100, subsample=0.9; total time=   0.4s\n",
      "[CV] END learning_rate=0.9, loss=exponential, max_depth=4, max_features=log2, min_samples_leaf=2, min_samples_split=4, n_estimators=100, subsample=0.9; total time=   0.4s\n",
      "[CV] END learning_rate=0.9, loss=exponential, max_depth=4, max_features=log2, min_samples_leaf=2, min_samples_split=4, n_estimators=100, subsample=0.9; total time=   0.4s\n",
      "[CV] END learning_rate=0.01, loss=exponential, max_depth=2, max_features=sqrt, min_samples_leaf=3, min_samples_split=6, n_estimators=1000, subsample=0.8; total time=   3.3s\n",
      "[CV] END learning_rate=0.01, loss=exponential, max_depth=2, max_features=sqrt, min_samples_leaf=3, min_samples_split=6, n_estimators=1000, subsample=0.8; total time=   3.3s\n",
      "[CV] END learning_rate=0.01, loss=exponential, max_depth=2, max_features=sqrt, min_samples_leaf=3, min_samples_split=6, n_estimators=1000, subsample=0.8; total time=   3.4s\n",
      "[CV] END learning_rate=0.01, loss=exponential, max_depth=2, max_features=sqrt, min_samples_leaf=3, min_samples_split=6, n_estimators=1000, subsample=0.8; total time=   3.3s\n",
      "[CV] END learning_rate=0.01, loss=exponential, max_depth=2, max_features=sqrt, min_samples_leaf=3, min_samples_split=6, n_estimators=1000, subsample=0.8; total time=   3.3s\n",
      "[CV] END learning_rate=0.01, loss=log_loss, max_depth=2, max_features=sqrt, min_samples_leaf=1, min_samples_split=20, n_estimators=100, subsample=0.9; total time=   0.4s\n",
      "[CV] END learning_rate=0.01, loss=log_loss, max_depth=2, max_features=sqrt, min_samples_leaf=1, min_samples_split=20, n_estimators=100, subsample=0.9; total time=   0.3s\n",
      "[CV] END learning_rate=0.01, loss=log_loss, max_depth=2, max_features=sqrt, min_samples_leaf=1, min_samples_split=20, n_estimators=100, subsample=0.9; total time=   0.4s\n",
      "[CV] END learning_rate=0.01, loss=log_loss, max_depth=2, max_features=sqrt, min_samples_leaf=1, min_samples_split=20, n_estimators=100, subsample=0.9; total time=   0.3s\n",
      "[CV] END learning_rate=0.01, loss=log_loss, max_depth=2, max_features=sqrt, min_samples_leaf=1, min_samples_split=20, n_estimators=100, subsample=0.9; total time=   0.4s\n",
      "[CV] END learning_rate=0.001, loss=exponential, max_depth=1, max_features=sqrt, min_samples_leaf=3, min_samples_split=4, n_estimators=1000, subsample=0.1; total time=   1.9s\n",
      "[CV] END learning_rate=0.001, loss=exponential, max_depth=1, max_features=sqrt, min_samples_leaf=3, min_samples_split=4, n_estimators=1000, subsample=0.1; total time=   1.9s\n",
      "[CV] END learning_rate=0.001, loss=exponential, max_depth=1, max_features=sqrt, min_samples_leaf=3, min_samples_split=4, n_estimators=1000, subsample=0.1; total time=   1.9s\n",
      "[CV] END learning_rate=0.001, loss=exponential, max_depth=1, max_features=sqrt, min_samples_leaf=3, min_samples_split=4, n_estimators=1000, subsample=0.1; total time=   1.9s\n",
      "[CV] END learning_rate=0.001, loss=exponential, max_depth=1, max_features=sqrt, min_samples_leaf=3, min_samples_split=4, n_estimators=1000, subsample=0.1; total time=   1.9s\n",
      "[CV] END learning_rate=0.01, loss=exponential, max_depth=5, max_features=sqrt, min_samples_leaf=1, min_samples_split=4, n_estimators=10, subsample=0.9; total time=   0.1s\n",
      "[CV] END learning_rate=0.01, loss=exponential, max_depth=5, max_features=sqrt, min_samples_leaf=1, min_samples_split=4, n_estimators=10, subsample=0.9; total time=   0.1s\n",
      "[CV] END learning_rate=0.01, loss=exponential, max_depth=5, max_features=sqrt, min_samples_leaf=1, min_samples_split=4, n_estimators=10, subsample=0.9; total time=   0.1s\n",
      "[CV] END learning_rate=0.01, loss=exponential, max_depth=5, max_features=sqrt, min_samples_leaf=1, min_samples_split=4, n_estimators=10, subsample=0.9; total time=   0.1s\n",
      "[CV] END learning_rate=0.01, loss=exponential, max_depth=5, max_features=sqrt, min_samples_leaf=1, min_samples_split=4, n_estimators=10, subsample=0.9; total time=   0.1s\n",
      "[CV] END learning_rate=0.9, loss=log_loss, max_depth=2, max_features=sqrt, min_samples_leaf=5, min_samples_split=4, n_estimators=10, subsample=0.2; total time=   0.0s\n",
      "[CV] END learning_rate=0.9, loss=log_loss, max_depth=2, max_features=sqrt, min_samples_leaf=5, min_samples_split=4, n_estimators=10, subsample=0.2; total time=   0.0s\n",
      "[CV] END learning_rate=0.9, loss=log_loss, max_depth=2, max_features=sqrt, min_samples_leaf=5, min_samples_split=4, n_estimators=10, subsample=0.2; total time=   0.0s\n",
      "[CV] END learning_rate=0.9, loss=log_loss, max_depth=2, max_features=sqrt, min_samples_leaf=5, min_samples_split=4, n_estimators=10, subsample=0.2; total time=   0.0s\n",
      "[CV] END learning_rate=0.9, loss=log_loss, max_depth=2, max_features=sqrt, min_samples_leaf=5, min_samples_split=4, n_estimators=10, subsample=0.2; total time=   0.0s\n",
      "[CV] END learning_rate=0.1, loss=exponential, max_depth=4, max_features=sqrt, min_samples_leaf=5, min_samples_split=20, n_estimators=100, subsample=0.8; total time=   0.5s\n",
      "[CV] END learning_rate=0.1, loss=exponential, max_depth=4, max_features=sqrt, min_samples_leaf=5, min_samples_split=20, n_estimators=100, subsample=0.8; total time=   0.5s\n",
      "[CV] END learning_rate=0.1, loss=exponential, max_depth=4, max_features=sqrt, min_samples_leaf=5, min_samples_split=20, n_estimators=100, subsample=0.8; total time=   0.5s\n",
      "[CV] END learning_rate=0.1, loss=exponential, max_depth=4, max_features=sqrt, min_samples_leaf=5, min_samples_split=20, n_estimators=100, subsample=0.8; total time=   0.5s\n",
      "[CV] END learning_rate=0.1, loss=exponential, max_depth=4, max_features=sqrt, min_samples_leaf=5, min_samples_split=20, n_estimators=100, subsample=0.8; total time=   0.5s\n",
      "[CV] END learning_rate=0.5, loss=exponential, max_depth=3, max_features=log2, min_samples_leaf=3, min_samples_split=6, n_estimators=10, subsample=0.8; total time=   0.0s\n",
      "[CV] END learning_rate=0.5, loss=exponential, max_depth=3, max_features=log2, min_samples_leaf=3, min_samples_split=6, n_estimators=10, subsample=0.8; total time=   0.0s\n",
      "[CV] END learning_rate=0.5, loss=exponential, max_depth=3, max_features=log2, min_samples_leaf=3, min_samples_split=6, n_estimators=10, subsample=0.8; total time=   0.0s\n",
      "[CV] END learning_rate=0.5, loss=exponential, max_depth=3, max_features=log2, min_samples_leaf=3, min_samples_split=6, n_estimators=10, subsample=0.8; total time=   0.0s\n",
      "[CV] END learning_rate=0.5, loss=exponential, max_depth=3, max_features=log2, min_samples_leaf=3, min_samples_split=6, n_estimators=10, subsample=0.8; total time=   0.0s\n",
      "[CV] END learning_rate=0.5, loss=exponential, max_depth=1, max_features=sqrt, min_samples_leaf=5, min_samples_split=3, n_estimators=10, subsample=0.9; total time=   0.0s\n",
      "[CV] END learning_rate=0.5, loss=exponential, max_depth=1, max_features=sqrt, min_samples_leaf=5, min_samples_split=3, n_estimators=10, subsample=0.9; total time=   0.0s\n",
      "[CV] END learning_rate=0.5, loss=exponential, max_depth=1, max_features=sqrt, min_samples_leaf=5, min_samples_split=3, n_estimators=10, subsample=0.9; total time=   0.0s\n",
      "[CV] END learning_rate=0.5, loss=exponential, max_depth=1, max_features=sqrt, min_samples_leaf=5, min_samples_split=3, n_estimators=10, subsample=0.9; total time=   0.0s\n",
      "[CV] END learning_rate=0.5, loss=exponential, max_depth=1, max_features=sqrt, min_samples_leaf=5, min_samples_split=3, n_estimators=10, subsample=0.9; total time=   0.0s\n"
     ]
    },
    {
     "name": "stdout",
     "output_type": "stream",
     "text": [
      "[CV] END learning_rate=0.01, loss=exponential, max_depth=1, max_features=log2, min_samples_leaf=3, min_samples_split=20, n_estimators=1000, subsample=0.5; total time=   2.6s\n",
      "[CV] END learning_rate=0.01, loss=exponential, max_depth=1, max_features=log2, min_samples_leaf=3, min_samples_split=20, n_estimators=1000, subsample=0.5; total time=   2.6s\n",
      "[CV] END learning_rate=0.01, loss=exponential, max_depth=1, max_features=log2, min_samples_leaf=3, min_samples_split=20, n_estimators=1000, subsample=0.5; total time=   2.7s\n",
      "[CV] END learning_rate=0.01, loss=exponential, max_depth=1, max_features=log2, min_samples_leaf=3, min_samples_split=20, n_estimators=1000, subsample=0.5; total time=   2.6s\n",
      "[CV] END learning_rate=0.01, loss=exponential, max_depth=1, max_features=log2, min_samples_leaf=3, min_samples_split=20, n_estimators=1000, subsample=0.5; total time=   2.6s\n",
      "[CV] END learning_rate=0.1, loss=log_loss, max_depth=1, max_features=log2, min_samples_leaf=2, min_samples_split=10, n_estimators=100, subsample=0.8; total time=   0.3s\n",
      "[CV] END learning_rate=0.1, loss=log_loss, max_depth=1, max_features=log2, min_samples_leaf=2, min_samples_split=10, n_estimators=100, subsample=0.8; total time=   0.3s\n",
      "[CV] END learning_rate=0.1, loss=log_loss, max_depth=1, max_features=log2, min_samples_leaf=2, min_samples_split=10, n_estimators=100, subsample=0.8; total time=   0.3s\n",
      "[CV] END learning_rate=0.1, loss=log_loss, max_depth=1, max_features=log2, min_samples_leaf=2, min_samples_split=10, n_estimators=100, subsample=0.8; total time=   0.3s\n",
      "[CV] END learning_rate=0.1, loss=log_loss, max_depth=1, max_features=log2, min_samples_leaf=2, min_samples_split=10, n_estimators=100, subsample=0.8; total time=   0.3s\n",
      "[CV] END learning_rate=0.5, loss=log_loss, max_depth=3, max_features=sqrt, min_samples_leaf=2, min_samples_split=4, n_estimators=100, subsample=0.2; total time=   0.3s\n",
      "[CV] END learning_rate=0.5, loss=log_loss, max_depth=3, max_features=sqrt, min_samples_leaf=2, min_samples_split=4, n_estimators=100, subsample=0.2; total time=   0.3s\n",
      "[CV] END learning_rate=0.5, loss=log_loss, max_depth=3, max_features=sqrt, min_samples_leaf=2, min_samples_split=4, n_estimators=100, subsample=0.2; total time=   0.3s\n",
      "[CV] END learning_rate=0.5, loss=log_loss, max_depth=3, max_features=sqrt, min_samples_leaf=2, min_samples_split=4, n_estimators=100, subsample=0.2; total time=   0.3s\n",
      "[CV] END learning_rate=0.5, loss=log_loss, max_depth=3, max_features=sqrt, min_samples_leaf=2, min_samples_split=4, n_estimators=100, subsample=0.2; total time=   0.3s\n",
      "[CV] END learning_rate=0.01, loss=exponential, max_depth=5, max_features=sqrt, min_samples_leaf=1, min_samples_split=4, n_estimators=10, subsample=0.1; total time=   0.0s\n",
      "[CV] END learning_rate=0.01, loss=exponential, max_depth=5, max_features=sqrt, min_samples_leaf=1, min_samples_split=4, n_estimators=10, subsample=0.1; total time=   0.0s\n",
      "[CV] END learning_rate=0.01, loss=exponential, max_depth=5, max_features=sqrt, min_samples_leaf=1, min_samples_split=4, n_estimators=10, subsample=0.1; total time=   0.0s\n",
      "[CV] END learning_rate=0.01, loss=exponential, max_depth=5, max_features=sqrt, min_samples_leaf=1, min_samples_split=4, n_estimators=10, subsample=0.1; total time=   0.0s\n",
      "[CV] END learning_rate=0.01, loss=exponential, max_depth=5, max_features=sqrt, min_samples_leaf=1, min_samples_split=4, n_estimators=10, subsample=0.1; total time=   0.0s\n",
      "[CV] END learning_rate=0.9, loss=exponential, max_depth=4, max_features=log2, min_samples_leaf=3, min_samples_split=5, n_estimators=1000, subsample=0.6; total time=   4.1s\n",
      "[CV] END learning_rate=0.9, loss=exponential, max_depth=4, max_features=log2, min_samples_leaf=3, min_samples_split=5, n_estimators=1000, subsample=0.6; total time=   4.1s\n",
      "[CV] END learning_rate=0.9, loss=exponential, max_depth=4, max_features=log2, min_samples_leaf=3, min_samples_split=5, n_estimators=1000, subsample=0.6; total time=   4.3s\n",
      "[CV] END learning_rate=0.9, loss=exponential, max_depth=4, max_features=log2, min_samples_leaf=3, min_samples_split=5, n_estimators=1000, subsample=0.6; total time=   4.2s\n",
      "[CV] END learning_rate=0.9, loss=exponential, max_depth=4, max_features=log2, min_samples_leaf=3, min_samples_split=5, n_estimators=1000, subsample=0.6; total time=   4.2s\n",
      "[CV] END learning_rate=0.1, loss=exponential, max_depth=2, max_features=sqrt, min_samples_leaf=1, min_samples_split=5, n_estimators=100, subsample=0.1; total time=   0.2s\n",
      "[CV] END learning_rate=0.1, loss=exponential, max_depth=2, max_features=sqrt, min_samples_leaf=1, min_samples_split=5, n_estimators=100, subsample=0.1; total time=   0.2s\n",
      "[CV] END learning_rate=0.1, loss=exponential, max_depth=2, max_features=sqrt, min_samples_leaf=1, min_samples_split=5, n_estimators=100, subsample=0.1; total time=   0.2s\n",
      "[CV] END learning_rate=0.1, loss=exponential, max_depth=2, max_features=sqrt, min_samples_leaf=1, min_samples_split=5, n_estimators=100, subsample=0.1; total time=   0.2s\n",
      "[CV] END learning_rate=0.1, loss=exponential, max_depth=2, max_features=sqrt, min_samples_leaf=1, min_samples_split=5, n_estimators=100, subsample=0.1; total time=   0.2s\n",
      "[CV] END learning_rate=0.01, loss=exponential, max_depth=5, max_features=log2, min_samples_leaf=1, min_samples_split=20, n_estimators=10, subsample=0.9; total time=   0.1s\n",
      "[CV] END learning_rate=0.01, loss=exponential, max_depth=5, max_features=log2, min_samples_leaf=1, min_samples_split=20, n_estimators=10, subsample=0.9; total time=   0.1s\n",
      "[CV] END learning_rate=0.01, loss=exponential, max_depth=5, max_features=log2, min_samples_leaf=1, min_samples_split=20, n_estimators=10, subsample=0.9; total time=   0.1s\n",
      "[CV] END learning_rate=0.01, loss=exponential, max_depth=5, max_features=log2, min_samples_leaf=1, min_samples_split=20, n_estimators=10, subsample=0.9; total time=   0.1s\n",
      "[CV] END learning_rate=0.01, loss=exponential, max_depth=5, max_features=log2, min_samples_leaf=1, min_samples_split=20, n_estimators=10, subsample=0.9; total time=   0.1s\n",
      "[CV] END learning_rate=0.1, loss=exponential, max_depth=2, max_features=sqrt, min_samples_leaf=1, min_samples_split=2, n_estimators=100, subsample=0.1; total time=   0.2s\n",
      "[CV] END learning_rate=0.1, loss=exponential, max_depth=2, max_features=sqrt, min_samples_leaf=1, min_samples_split=2, n_estimators=100, subsample=0.1; total time=   0.2s\n",
      "[CV] END learning_rate=0.1, loss=exponential, max_depth=2, max_features=sqrt, min_samples_leaf=1, min_samples_split=2, n_estimators=100, subsample=0.1; total time=   0.2s\n",
      "[CV] END learning_rate=0.1, loss=exponential, max_depth=2, max_features=sqrt, min_samples_leaf=1, min_samples_split=2, n_estimators=100, subsample=0.1; total time=   0.2s\n",
      "[CV] END learning_rate=0.1, loss=exponential, max_depth=2, max_features=sqrt, min_samples_leaf=1, min_samples_split=2, n_estimators=100, subsample=0.1; total time=   0.2s\n",
      "[CV] END learning_rate=0.1, loss=log_loss, max_depth=5, max_features=log2, min_samples_leaf=5, min_samples_split=2, n_estimators=1000, subsample=0.1; total time=   3.1s\n",
      "[CV] END learning_rate=0.1, loss=log_loss, max_depth=5, max_features=log2, min_samples_leaf=5, min_samples_split=2, n_estimators=1000, subsample=0.1; total time=   3.0s\n",
      "[CV] END learning_rate=0.1, loss=log_loss, max_depth=5, max_features=log2, min_samples_leaf=5, min_samples_split=2, n_estimators=1000, subsample=0.1; total time=   3.0s\n",
      "[CV] END learning_rate=0.1, loss=log_loss, max_depth=5, max_features=log2, min_samples_leaf=5, min_samples_split=2, n_estimators=1000, subsample=0.1; total time=   3.0s\n",
      "[CV] END learning_rate=0.1, loss=log_loss, max_depth=5, max_features=log2, min_samples_leaf=5, min_samples_split=2, n_estimators=1000, subsample=0.1; total time=   3.0s\n",
      "[CV] END learning_rate=0.5, loss=log_loss, max_depth=3, max_features=sqrt, min_samples_leaf=5, min_samples_split=20, n_estimators=100, subsample=0.6; total time=   0.4s\n",
      "[CV] END learning_rate=0.5, loss=log_loss, max_depth=3, max_features=sqrt, min_samples_leaf=5, min_samples_split=20, n_estimators=100, subsample=0.6; total time=   0.4s\n",
      "[CV] END learning_rate=0.5, loss=log_loss, max_depth=3, max_features=sqrt, min_samples_leaf=5, min_samples_split=20, n_estimators=100, subsample=0.6; total time=   0.4s\n",
      "[CV] END learning_rate=0.5, loss=log_loss, max_depth=3, max_features=sqrt, min_samples_leaf=5, min_samples_split=20, n_estimators=100, subsample=0.6; total time=   0.4s\n"
     ]
    },
    {
     "name": "stdout",
     "output_type": "stream",
     "text": [
      "[CV] END learning_rate=0.5, loss=log_loss, max_depth=3, max_features=sqrt, min_samples_leaf=5, min_samples_split=20, n_estimators=100, subsample=0.6; total time=   0.4s\n",
      "[CV] END learning_rate=0.6, loss=log_loss, max_depth=4, max_features=sqrt, min_samples_leaf=5, min_samples_split=2, n_estimators=100, subsample=0.8; total time=   0.5s\n",
      "[CV] END learning_rate=0.6, loss=log_loss, max_depth=4, max_features=sqrt, min_samples_leaf=5, min_samples_split=2, n_estimators=100, subsample=0.8; total time=   0.5s\n",
      "[CV] END learning_rate=0.6, loss=log_loss, max_depth=4, max_features=sqrt, min_samples_leaf=5, min_samples_split=2, n_estimators=100, subsample=0.8; total time=   0.5s\n",
      "[CV] END learning_rate=0.6, loss=log_loss, max_depth=4, max_features=sqrt, min_samples_leaf=5, min_samples_split=2, n_estimators=100, subsample=0.8; total time=   0.5s\n",
      "[CV] END learning_rate=0.6, loss=log_loss, max_depth=4, max_features=sqrt, min_samples_leaf=5, min_samples_split=2, n_estimators=100, subsample=0.8; total time=   0.5s\n",
      "[CV] END learning_rate=0.01, loss=exponential, max_depth=4, max_features=log2, min_samples_leaf=3, min_samples_split=20, n_estimators=10, subsample=0.1; total time=   0.0s\n",
      "[CV] END learning_rate=0.01, loss=exponential, max_depth=4, max_features=log2, min_samples_leaf=3, min_samples_split=20, n_estimators=10, subsample=0.1; total time=   0.0s\n",
      "[CV] END learning_rate=0.01, loss=exponential, max_depth=4, max_features=log2, min_samples_leaf=3, min_samples_split=20, n_estimators=10, subsample=0.1; total time=   0.0s\n",
      "[CV] END learning_rate=0.01, loss=exponential, max_depth=4, max_features=log2, min_samples_leaf=3, min_samples_split=20, n_estimators=10, subsample=0.1; total time=   0.0s\n",
      "[CV] END learning_rate=0.01, loss=exponential, max_depth=4, max_features=log2, min_samples_leaf=3, min_samples_split=20, n_estimators=10, subsample=0.1; total time=   0.0s\n",
      "[CV] END learning_rate=0.5, loss=log_loss, max_depth=4, max_features=log2, min_samples_leaf=3, min_samples_split=3, n_estimators=10, subsample=0.6; total time=   0.1s\n",
      "[CV] END learning_rate=0.5, loss=log_loss, max_depth=4, max_features=log2, min_samples_leaf=3, min_samples_split=3, n_estimators=10, subsample=0.6; total time=   0.1s\n",
      "[CV] END learning_rate=0.5, loss=log_loss, max_depth=4, max_features=log2, min_samples_leaf=3, min_samples_split=3, n_estimators=10, subsample=0.6; total time=   0.1s\n",
      "[CV] END learning_rate=0.5, loss=log_loss, max_depth=4, max_features=log2, min_samples_leaf=3, min_samples_split=3, n_estimators=10, subsample=0.6; total time=   0.1s\n",
      "[CV] END learning_rate=0.5, loss=log_loss, max_depth=4, max_features=log2, min_samples_leaf=3, min_samples_split=3, n_estimators=10, subsample=0.6; total time=   0.1s\n",
      "[CV] END learning_rate=0.5, loss=exponential, max_depth=1, max_features=log2, min_samples_leaf=1, min_samples_split=20, n_estimators=10, subsample=0.5; total time=   0.0s\n",
      "[CV] END learning_rate=0.5, loss=exponential, max_depth=1, max_features=log2, min_samples_leaf=1, min_samples_split=20, n_estimators=10, subsample=0.5; total time=   0.0s\n",
      "[CV] END learning_rate=0.5, loss=exponential, max_depth=1, max_features=log2, min_samples_leaf=1, min_samples_split=20, n_estimators=10, subsample=0.5; total time=   0.0s\n",
      "[CV] END learning_rate=0.5, loss=exponential, max_depth=1, max_features=log2, min_samples_leaf=1, min_samples_split=20, n_estimators=10, subsample=0.5; total time=   0.0s\n",
      "[CV] END learning_rate=0.5, loss=exponential, max_depth=1, max_features=log2, min_samples_leaf=1, min_samples_split=20, n_estimators=10, subsample=0.5; total time=   0.0s\n",
      "[CV] END learning_rate=0.001, loss=log_loss, max_depth=4, max_features=log2, min_samples_leaf=2, min_samples_split=10, n_estimators=10, subsample=0.6; total time=   0.0s\n",
      "[CV] END learning_rate=0.001, loss=log_loss, max_depth=4, max_features=log2, min_samples_leaf=2, min_samples_split=10, n_estimators=10, subsample=0.6; total time=   0.1s\n",
      "[CV] END learning_rate=0.001, loss=log_loss, max_depth=4, max_features=log2, min_samples_leaf=2, min_samples_split=10, n_estimators=10, subsample=0.6; total time=   0.1s\n",
      "[CV] END learning_rate=0.001, loss=log_loss, max_depth=4, max_features=log2, min_samples_leaf=2, min_samples_split=10, n_estimators=10, subsample=0.6; total time=   0.1s\n",
      "[CV] END learning_rate=0.001, loss=log_loss, max_depth=4, max_features=log2, min_samples_leaf=2, min_samples_split=10, n_estimators=10, subsample=0.6; total time=   0.1s\n",
      "[CV] END learning_rate=0.01, loss=log_loss, max_depth=3, max_features=log2, min_samples_leaf=3, min_samples_split=5, n_estimators=100, subsample=0.9; total time=   0.4s\n",
      "[CV] END learning_rate=0.01, loss=log_loss, max_depth=3, max_features=log2, min_samples_leaf=3, min_samples_split=5, n_estimators=100, subsample=0.9; total time=   0.4s\n",
      "[CV] END learning_rate=0.01, loss=log_loss, max_depth=3, max_features=log2, min_samples_leaf=3, min_samples_split=5, n_estimators=100, subsample=0.9; total time=   0.4s\n",
      "[CV] END learning_rate=0.01, loss=log_loss, max_depth=3, max_features=log2, min_samples_leaf=3, min_samples_split=5, n_estimators=100, subsample=0.9; total time=   0.4s\n",
      "[CV] END learning_rate=0.01, loss=log_loss, max_depth=3, max_features=log2, min_samples_leaf=3, min_samples_split=5, n_estimators=100, subsample=0.9; total time=   0.4s\n",
      "[CV] END learning_rate=0.5, loss=log_loss, max_depth=1, max_features=sqrt, min_samples_leaf=5, min_samples_split=20, n_estimators=1000, subsample=0.9; total time=   2.8s\n",
      "[CV] END learning_rate=0.5, loss=log_loss, max_depth=1, max_features=sqrt, min_samples_leaf=5, min_samples_split=20, n_estimators=1000, subsample=0.9; total time=   2.7s\n",
      "[CV] END learning_rate=0.5, loss=log_loss, max_depth=1, max_features=sqrt, min_samples_leaf=5, min_samples_split=20, n_estimators=1000, subsample=0.9; total time=   2.8s\n",
      "[CV] END learning_rate=0.5, loss=log_loss, max_depth=1, max_features=sqrt, min_samples_leaf=5, min_samples_split=20, n_estimators=1000, subsample=0.9; total time=   2.7s\n",
      "[CV] END learning_rate=0.5, loss=log_loss, max_depth=1, max_features=sqrt, min_samples_leaf=5, min_samples_split=20, n_estimators=1000, subsample=0.9; total time=   2.8s\n",
      "[CV] END learning_rate=0.5, loss=exponential, max_depth=4, max_features=log2, min_samples_leaf=1, min_samples_split=3, n_estimators=1000, subsample=0.5; total time=   4.1s\n",
      "[CV] END learning_rate=0.5, loss=exponential, max_depth=4, max_features=log2, min_samples_leaf=1, min_samples_split=3, n_estimators=1000, subsample=0.5; total time=   4.1s\n",
      "[CV] END learning_rate=0.5, loss=exponential, max_depth=4, max_features=log2, min_samples_leaf=1, min_samples_split=3, n_estimators=1000, subsample=0.5; total time=   4.2s\n",
      "[CV] END learning_rate=0.5, loss=exponential, max_depth=4, max_features=log2, min_samples_leaf=1, min_samples_split=3, n_estimators=1000, subsample=0.5; total time=   4.1s\n",
      "[CV] END learning_rate=0.5, loss=exponential, max_depth=4, max_features=log2, min_samples_leaf=1, min_samples_split=3, n_estimators=1000, subsample=0.5; total time=   4.2s\n",
      "[CV] END learning_rate=0.1, loss=log_loss, max_depth=4, max_features=sqrt, min_samples_leaf=3, min_samples_split=4, n_estimators=100, subsample=0.5; total time=   0.5s\n",
      "[CV] END learning_rate=0.1, loss=log_loss, max_depth=4, max_features=sqrt, min_samples_leaf=3, min_samples_split=4, n_estimators=100, subsample=0.5; total time=   0.5s\n",
      "[CV] END learning_rate=0.1, loss=log_loss, max_depth=4, max_features=sqrt, min_samples_leaf=3, min_samples_split=4, n_estimators=100, subsample=0.5; total time=   0.5s\n",
      "[CV] END learning_rate=0.1, loss=log_loss, max_depth=4, max_features=sqrt, min_samples_leaf=3, min_samples_split=4, n_estimators=100, subsample=0.5; total time=   0.5s\n",
      "[CV] END learning_rate=0.1, loss=log_loss, max_depth=4, max_features=sqrt, min_samples_leaf=3, min_samples_split=4, n_estimators=100, subsample=0.5; total time=   0.5s\n",
      "[CV] END learning_rate=0.5, loss=exponential, max_depth=1, max_features=log2, min_samples_leaf=1, min_samples_split=20, n_estimators=10, subsample=0.2; total time=   0.0s\n",
      "[CV] END learning_rate=0.5, loss=exponential, max_depth=1, max_features=log2, min_samples_leaf=1, min_samples_split=20, n_estimators=10, subsample=0.2; total time=   0.0s\n",
      "[CV] END learning_rate=0.5, loss=exponential, max_depth=1, max_features=log2, min_samples_leaf=1, min_samples_split=20, n_estimators=10, subsample=0.2; total time=   0.0s\n",
      "[CV] END learning_rate=0.5, loss=exponential, max_depth=1, max_features=log2, min_samples_leaf=1, min_samples_split=20, n_estimators=10, subsample=0.2; total time=   0.0s\n",
      "[CV] END learning_rate=0.5, loss=exponential, max_depth=1, max_features=log2, min_samples_leaf=1, min_samples_split=20, n_estimators=10, subsample=0.2; total time=   0.0s\n",
      "[CV] END learning_rate=0.01, loss=exponential, max_depth=4, max_features=sqrt, min_samples_leaf=5, min_samples_split=3, n_estimators=10, subsample=0.1; total time=   0.0s\n"
     ]
    },
    {
     "name": "stdout",
     "output_type": "stream",
     "text": [
      "[CV] END learning_rate=0.01, loss=exponential, max_depth=4, max_features=sqrt, min_samples_leaf=5, min_samples_split=3, n_estimators=10, subsample=0.1; total time=   0.0s\n",
      "[CV] END learning_rate=0.01, loss=exponential, max_depth=4, max_features=sqrt, min_samples_leaf=5, min_samples_split=3, n_estimators=10, subsample=0.1; total time=   0.0s\n",
      "[CV] END learning_rate=0.01, loss=exponential, max_depth=4, max_features=sqrt, min_samples_leaf=5, min_samples_split=3, n_estimators=10, subsample=0.1; total time=   0.0s\n",
      "[CV] END learning_rate=0.01, loss=exponential, max_depth=4, max_features=sqrt, min_samples_leaf=5, min_samples_split=3, n_estimators=10, subsample=0.1; total time=   0.0s\n",
      "[CV] END learning_rate=0.6, loss=log_loss, max_depth=4, max_features=sqrt, min_samples_leaf=5, min_samples_split=5, n_estimators=100, subsample=0.5; total time=   0.5s\n",
      "[CV] END learning_rate=0.6, loss=log_loss, max_depth=4, max_features=sqrt, min_samples_leaf=5, min_samples_split=5, n_estimators=100, subsample=0.5; total time=   0.5s\n",
      "[CV] END learning_rate=0.6, loss=log_loss, max_depth=4, max_features=sqrt, min_samples_leaf=5, min_samples_split=5, n_estimators=100, subsample=0.5; total time=   0.5s\n",
      "[CV] END learning_rate=0.6, loss=log_loss, max_depth=4, max_features=sqrt, min_samples_leaf=5, min_samples_split=5, n_estimators=100, subsample=0.5; total time=   0.5s\n",
      "[CV] END learning_rate=0.6, loss=log_loss, max_depth=4, max_features=sqrt, min_samples_leaf=5, min_samples_split=5, n_estimators=100, subsample=0.5; total time=   0.5s\n",
      "[CV] END learning_rate=0.9, loss=exponential, max_depth=1, max_features=sqrt, min_samples_leaf=2, min_samples_split=2, n_estimators=100, subsample=0.5; total time=   0.3s\n",
      "[CV] END learning_rate=0.9, loss=exponential, max_depth=1, max_features=sqrt, min_samples_leaf=2, min_samples_split=2, n_estimators=100, subsample=0.5; total time=   0.3s\n",
      "[CV] END learning_rate=0.9, loss=exponential, max_depth=1, max_features=sqrt, min_samples_leaf=2, min_samples_split=2, n_estimators=100, subsample=0.5; total time=   0.3s\n",
      "[CV] END learning_rate=0.9, loss=exponential, max_depth=1, max_features=sqrt, min_samples_leaf=2, min_samples_split=2, n_estimators=100, subsample=0.5; total time=   0.3s\n",
      "[CV] END learning_rate=0.9, loss=exponential, max_depth=1, max_features=sqrt, min_samples_leaf=2, min_samples_split=2, n_estimators=100, subsample=0.5; total time=   0.3s\n",
      "[CV] END learning_rate=0.1, loss=log_loss, max_depth=5, max_features=log2, min_samples_leaf=2, min_samples_split=4, n_estimators=10, subsample=0.6; total time=   0.1s\n",
      "[CV] END learning_rate=0.1, loss=log_loss, max_depth=5, max_features=log2, min_samples_leaf=2, min_samples_split=4, n_estimators=10, subsample=0.6; total time=   0.1s\n",
      "[CV] END learning_rate=0.1, loss=log_loss, max_depth=5, max_features=log2, min_samples_leaf=2, min_samples_split=4, n_estimators=10, subsample=0.6; total time=   0.1s\n",
      "[CV] END learning_rate=0.1, loss=log_loss, max_depth=5, max_features=log2, min_samples_leaf=2, min_samples_split=4, n_estimators=10, subsample=0.6; total time=   0.1s\n",
      "[CV] END learning_rate=0.1, loss=log_loss, max_depth=5, max_features=log2, min_samples_leaf=2, min_samples_split=4, n_estimators=10, subsample=0.6; total time=   0.1s\n",
      "[CV] END learning_rate=0.9, loss=exponential, max_depth=2, max_features=log2, min_samples_leaf=1, min_samples_split=3, n_estimators=100, subsample=0.9; total time=   0.3s\n",
      "[CV] END learning_rate=0.9, loss=exponential, max_depth=2, max_features=log2, min_samples_leaf=1, min_samples_split=3, n_estimators=100, subsample=0.9; total time=   0.3s\n",
      "[CV] END learning_rate=0.9, loss=exponential, max_depth=2, max_features=log2, min_samples_leaf=1, min_samples_split=3, n_estimators=100, subsample=0.9; total time=   0.3s\n",
      "[CV] END learning_rate=0.9, loss=exponential, max_depth=2, max_features=log2, min_samples_leaf=1, min_samples_split=3, n_estimators=100, subsample=0.9; total time=   0.3s\n",
      "[CV] END learning_rate=0.9, loss=exponential, max_depth=2, max_features=log2, min_samples_leaf=1, min_samples_split=3, n_estimators=100, subsample=0.9; total time=   0.3s\n",
      "[CV] END learning_rate=0.1, loss=exponential, max_depth=5, max_features=sqrt, min_samples_leaf=1, min_samples_split=20, n_estimators=100, subsample=0.9; total time=   0.6s\n",
      "[CV] END learning_rate=0.1, loss=exponential, max_depth=5, max_features=sqrt, min_samples_leaf=1, min_samples_split=20, n_estimators=100, subsample=0.9; total time=   0.6s\n",
      "[CV] END learning_rate=0.1, loss=exponential, max_depth=5, max_features=sqrt, min_samples_leaf=1, min_samples_split=20, n_estimators=100, subsample=0.9; total time=   0.6s\n",
      "[CV] END learning_rate=0.1, loss=exponential, max_depth=5, max_features=sqrt, min_samples_leaf=1, min_samples_split=20, n_estimators=100, subsample=0.9; total time=   0.6s\n",
      "[CV] END learning_rate=0.1, loss=exponential, max_depth=5, max_features=sqrt, min_samples_leaf=1, min_samples_split=20, n_estimators=100, subsample=0.9; total time=   0.6s\n",
      "[CV] END learning_rate=0.01, loss=log_loss, max_depth=5, max_features=log2, min_samples_leaf=3, min_samples_split=10, n_estimators=100, subsample=0.5; total time=   0.5s\n",
      "[CV] END learning_rate=0.01, loss=log_loss, max_depth=5, max_features=log2, min_samples_leaf=3, min_samples_split=10, n_estimators=100, subsample=0.5; total time=   0.6s\n",
      "[CV] END learning_rate=0.01, loss=log_loss, max_depth=5, max_features=log2, min_samples_leaf=3, min_samples_split=10, n_estimators=100, subsample=0.5; total time=   0.6s\n",
      "[CV] END learning_rate=0.01, loss=log_loss, max_depth=5, max_features=log2, min_samples_leaf=3, min_samples_split=10, n_estimators=100, subsample=0.5; total time=   0.5s\n",
      "[CV] END learning_rate=0.01, loss=log_loss, max_depth=5, max_features=log2, min_samples_leaf=3, min_samples_split=10, n_estimators=100, subsample=0.5; total time=   0.5s\n",
      "[CV] END learning_rate=0.5, loss=exponential, max_depth=5, max_features=log2, min_samples_leaf=2, min_samples_split=20, n_estimators=1000, subsample=0.2; total time=   3.3s\n",
      "[CV] END learning_rate=0.5, loss=exponential, max_depth=5, max_features=log2, min_samples_leaf=2, min_samples_split=20, n_estimators=1000, subsample=0.2; total time=   3.3s\n",
      "[CV] END learning_rate=0.5, loss=exponential, max_depth=5, max_features=log2, min_samples_leaf=2, min_samples_split=20, n_estimators=1000, subsample=0.2; total time=   3.3s\n",
      "[CV] END learning_rate=0.5, loss=exponential, max_depth=5, max_features=log2, min_samples_leaf=2, min_samples_split=20, n_estimators=1000, subsample=0.2; total time=   3.3s\n",
      "[CV] END learning_rate=0.5, loss=exponential, max_depth=5, max_features=log2, min_samples_leaf=2, min_samples_split=20, n_estimators=1000, subsample=0.2; total time=   3.2s\n",
      "[CV] END learning_rate=0.001, loss=log_loss, max_depth=4, max_features=log2, min_samples_leaf=1, min_samples_split=2, n_estimators=10, subsample=0.2; total time=   0.0s\n",
      "[CV] END learning_rate=0.001, loss=log_loss, max_depth=4, max_features=log2, min_samples_leaf=1, min_samples_split=2, n_estimators=10, subsample=0.2; total time=   0.0s\n",
      "[CV] END learning_rate=0.001, loss=log_loss, max_depth=4, max_features=log2, min_samples_leaf=1, min_samples_split=2, n_estimators=10, subsample=0.2; total time=   0.0s\n",
      "[CV] END learning_rate=0.001, loss=log_loss, max_depth=4, max_features=log2, min_samples_leaf=1, min_samples_split=2, n_estimators=10, subsample=0.2; total time=   0.0s\n",
      "[CV] END learning_rate=0.001, loss=log_loss, max_depth=4, max_features=log2, min_samples_leaf=1, min_samples_split=2, n_estimators=10, subsample=0.2; total time=   0.0s\n",
      "[CV] END learning_rate=0.6, loss=exponential, max_depth=3, max_features=sqrt, min_samples_leaf=5, min_samples_split=2, n_estimators=10, subsample=0.5; total time=   0.0s\n",
      "[CV] END learning_rate=0.6, loss=exponential, max_depth=3, max_features=sqrt, min_samples_leaf=5, min_samples_split=2, n_estimators=10, subsample=0.5; total time=   0.0s\n",
      "[CV] END learning_rate=0.6, loss=exponential, max_depth=3, max_features=sqrt, min_samples_leaf=5, min_samples_split=2, n_estimators=10, subsample=0.5; total time=   0.0s\n",
      "[CV] END learning_rate=0.6, loss=exponential, max_depth=3, max_features=sqrt, min_samples_leaf=5, min_samples_split=2, n_estimators=10, subsample=0.5; total time=   0.0s\n",
      "[CV] END learning_rate=0.6, loss=exponential, max_depth=3, max_features=sqrt, min_samples_leaf=5, min_samples_split=2, n_estimators=10, subsample=0.5; total time=   0.0s\n"
     ]
    },
    {
     "name": "stdout",
     "output_type": "stream",
     "text": [
      "[CV] END learning_rate=0.001, loss=exponential, max_depth=2, max_features=log2, min_samples_leaf=1, min_samples_split=4, n_estimators=1000, subsample=0.9; total time=   2.9s\n",
      "[CV] END learning_rate=0.001, loss=exponential, max_depth=2, max_features=log2, min_samples_leaf=1, min_samples_split=4, n_estimators=1000, subsample=0.9; total time=   2.9s\n",
      "[CV] END learning_rate=0.001, loss=exponential, max_depth=2, max_features=log2, min_samples_leaf=1, min_samples_split=4, n_estimators=1000, subsample=0.9; total time=   3.0s\n",
      "[CV] END learning_rate=0.001, loss=exponential, max_depth=2, max_features=log2, min_samples_leaf=1, min_samples_split=4, n_estimators=1000, subsample=0.9; total time=   2.9s\n",
      "[CV] END learning_rate=0.001, loss=exponential, max_depth=2, max_features=log2, min_samples_leaf=1, min_samples_split=4, n_estimators=1000, subsample=0.9; total time=   2.9s\n",
      "[CV] END learning_rate=0.01, loss=log_loss, max_depth=2, max_features=sqrt, min_samples_leaf=1, min_samples_split=10, n_estimators=1000, subsample=0.9; total time=   3.5s\n",
      "[CV] END learning_rate=0.01, loss=log_loss, max_depth=2, max_features=sqrt, min_samples_leaf=1, min_samples_split=10, n_estimators=1000, subsample=0.9; total time=   3.5s\n",
      "[CV] END learning_rate=0.01, loss=log_loss, max_depth=2, max_features=sqrt, min_samples_leaf=1, min_samples_split=10, n_estimators=1000, subsample=0.9; total time=   3.6s\n",
      "[CV] END learning_rate=0.01, loss=log_loss, max_depth=2, max_features=sqrt, min_samples_leaf=1, min_samples_split=10, n_estimators=1000, subsample=0.9; total time=   3.5s\n",
      "[CV] END learning_rate=0.01, loss=log_loss, max_depth=2, max_features=sqrt, min_samples_leaf=1, min_samples_split=10, n_estimators=1000, subsample=0.9; total time=   3.5s\n",
      "[CV] END learning_rate=0.5, loss=log_loss, max_depth=4, max_features=log2, min_samples_leaf=1, min_samples_split=5, n_estimators=100, subsample=0.5; total time=   0.4s\n",
      "[CV] END learning_rate=0.5, loss=log_loss, max_depth=4, max_features=log2, min_samples_leaf=1, min_samples_split=5, n_estimators=100, subsample=0.5; total time=   0.4s\n",
      "[CV] END learning_rate=0.5, loss=log_loss, max_depth=4, max_features=log2, min_samples_leaf=1, min_samples_split=5, n_estimators=100, subsample=0.5; total time=   0.4s\n",
      "[CV] END learning_rate=0.5, loss=log_loss, max_depth=4, max_features=log2, min_samples_leaf=1, min_samples_split=5, n_estimators=100, subsample=0.5; total time=   0.4s\n",
      "[CV] END learning_rate=0.5, loss=log_loss, max_depth=4, max_features=log2, min_samples_leaf=1, min_samples_split=5, n_estimators=100, subsample=0.5; total time=   0.4s\n",
      "[CV] END learning_rate=0.001, loss=exponential, max_depth=4, max_features=sqrt, min_samples_leaf=2, min_samples_split=6, n_estimators=10, subsample=0.1; total time=   0.0s\n",
      "[CV] END learning_rate=0.001, loss=exponential, max_depth=4, max_features=sqrt, min_samples_leaf=2, min_samples_split=6, n_estimators=10, subsample=0.1; total time=   0.0s\n",
      "[CV] END learning_rate=0.001, loss=exponential, max_depth=4, max_features=sqrt, min_samples_leaf=2, min_samples_split=6, n_estimators=10, subsample=0.1; total time=   0.0s\n",
      "[CV] END learning_rate=0.001, loss=exponential, max_depth=4, max_features=sqrt, min_samples_leaf=2, min_samples_split=6, n_estimators=10, subsample=0.1; total time=   0.0s\n",
      "[CV] END learning_rate=0.001, loss=exponential, max_depth=4, max_features=sqrt, min_samples_leaf=2, min_samples_split=6, n_estimators=10, subsample=0.1; total time=   0.0s\n",
      "[CV] END learning_rate=0.1, loss=exponential, max_depth=1, max_features=log2, min_samples_leaf=2, min_samples_split=3, n_estimators=1000, subsample=0.8; total time=   2.5s\n",
      "[CV] END learning_rate=0.1, loss=exponential, max_depth=1, max_features=log2, min_samples_leaf=2, min_samples_split=3, n_estimators=1000, subsample=0.8; total time=   2.5s\n",
      "[CV] END learning_rate=0.1, loss=exponential, max_depth=1, max_features=log2, min_samples_leaf=2, min_samples_split=3, n_estimators=1000, subsample=0.8; total time=   2.5s\n",
      "[CV] END learning_rate=0.1, loss=exponential, max_depth=1, max_features=log2, min_samples_leaf=2, min_samples_split=3, n_estimators=1000, subsample=0.8; total time=   2.5s\n",
      "[CV] END learning_rate=0.1, loss=exponential, max_depth=1, max_features=log2, min_samples_leaf=2, min_samples_split=3, n_estimators=1000, subsample=0.8; total time=   2.5s\n",
      "[CV] END learning_rate=0.01, loss=exponential, max_depth=4, max_features=log2, min_samples_leaf=2, min_samples_split=6, n_estimators=10, subsample=0.5; total time=   0.0s\n",
      "[CV] END learning_rate=0.01, loss=exponential, max_depth=4, max_features=log2, min_samples_leaf=2, min_samples_split=6, n_estimators=10, subsample=0.5; total time=   0.0s\n",
      "[CV] END learning_rate=0.01, loss=exponential, max_depth=4, max_features=log2, min_samples_leaf=2, min_samples_split=6, n_estimators=10, subsample=0.5; total time=   0.0s\n",
      "[CV] END learning_rate=0.01, loss=exponential, max_depth=4, max_features=log2, min_samples_leaf=2, min_samples_split=6, n_estimators=10, subsample=0.5; total time=   0.0s\n",
      "[CV] END learning_rate=0.01, loss=exponential, max_depth=4, max_features=log2, min_samples_leaf=2, min_samples_split=6, n_estimators=10, subsample=0.5; total time=   0.1s\n",
      "[CV] END learning_rate=0.01, loss=exponential, max_depth=1, max_features=sqrt, min_samples_leaf=5, min_samples_split=20, n_estimators=1000, subsample=0.9; total time=   2.5s\n",
      "[CV] END learning_rate=0.01, loss=exponential, max_depth=1, max_features=sqrt, min_samples_leaf=5, min_samples_split=20, n_estimators=1000, subsample=0.9; total time=   2.5s\n",
      "[CV] END learning_rate=0.01, loss=exponential, max_depth=1, max_features=sqrt, min_samples_leaf=5, min_samples_split=20, n_estimators=1000, subsample=0.9; total time=   2.5s\n",
      "[CV] END learning_rate=0.01, loss=exponential, max_depth=1, max_features=sqrt, min_samples_leaf=5, min_samples_split=20, n_estimators=1000, subsample=0.9; total time=   2.5s\n",
      "[CV] END learning_rate=0.01, loss=exponential, max_depth=1, max_features=sqrt, min_samples_leaf=5, min_samples_split=20, n_estimators=1000, subsample=0.9; total time=   2.5s\n",
      "[CV] END learning_rate=0.1, loss=exponential, max_depth=3, max_features=log2, min_samples_leaf=3, min_samples_split=4, n_estimators=1000, subsample=0.1; total time=   2.2s\n",
      "[CV] END learning_rate=0.1, loss=exponential, max_depth=3, max_features=log2, min_samples_leaf=3, min_samples_split=4, n_estimators=1000, subsample=0.1; total time=   2.2s\n",
      "[CV] END learning_rate=0.1, loss=exponential, max_depth=3, max_features=log2, min_samples_leaf=3, min_samples_split=4, n_estimators=1000, subsample=0.1; total time=   2.2s\n",
      "[CV] END learning_rate=0.1, loss=exponential, max_depth=3, max_features=log2, min_samples_leaf=3, min_samples_split=4, n_estimators=1000, subsample=0.1; total time=   2.2s\n",
      "[CV] END learning_rate=0.1, loss=exponential, max_depth=3, max_features=log2, min_samples_leaf=3, min_samples_split=4, n_estimators=1000, subsample=0.1; total time=   2.2s\n",
      "[CV] END learning_rate=0.1, loss=log_loss, max_depth=3, max_features=log2, min_samples_leaf=2, min_samples_split=2, n_estimators=100, subsample=0.1; total time=   0.3s\n",
      "[CV] END learning_rate=0.1, loss=log_loss, max_depth=3, max_features=log2, min_samples_leaf=2, min_samples_split=2, n_estimators=100, subsample=0.1; total time=   0.3s\n",
      "[CV] END learning_rate=0.1, loss=log_loss, max_depth=3, max_features=log2, min_samples_leaf=2, min_samples_split=2, n_estimators=100, subsample=0.1; total time=   0.3s\n",
      "[CV] END learning_rate=0.1, loss=log_loss, max_depth=3, max_features=log2, min_samples_leaf=2, min_samples_split=2, n_estimators=100, subsample=0.1; total time=   0.3s\n",
      "[CV] END learning_rate=0.1, loss=log_loss, max_depth=3, max_features=log2, min_samples_leaf=2, min_samples_split=2, n_estimators=100, subsample=0.1; total time=   0.3s\n",
      "[CV] END learning_rate=0.5, loss=log_loss, max_depth=5, max_features=sqrt, min_samples_leaf=2, min_samples_split=2, n_estimators=1000, subsample=0.8; total time=   6.1s\n",
      "[CV] END learning_rate=0.5, loss=log_loss, max_depth=5, max_features=sqrt, min_samples_leaf=2, min_samples_split=2, n_estimators=1000, subsample=0.8; total time=   6.1s\n",
      "[CV] END learning_rate=0.5, loss=log_loss, max_depth=5, max_features=sqrt, min_samples_leaf=2, min_samples_split=2, n_estimators=1000, subsample=0.8; total time=   5.7s\n"
     ]
    },
    {
     "name": "stdout",
     "output_type": "stream",
     "text": [
      "[CV] END learning_rate=0.5, loss=log_loss, max_depth=5, max_features=sqrt, min_samples_leaf=2, min_samples_split=2, n_estimators=1000, subsample=0.8; total time=   6.0s\n",
      "[CV] END learning_rate=0.5, loss=log_loss, max_depth=5, max_features=sqrt, min_samples_leaf=2, min_samples_split=2, n_estimators=1000, subsample=0.8; total time=   6.5s\n",
      "[CV] END learning_rate=0.1, loss=log_loss, max_depth=1, max_features=log2, min_samples_leaf=1, min_samples_split=4, n_estimators=10, subsample=0.2; total time=   0.0s\n",
      "[CV] END learning_rate=0.1, loss=log_loss, max_depth=1, max_features=log2, min_samples_leaf=1, min_samples_split=4, n_estimators=10, subsample=0.2; total time=   0.0s\n",
      "[CV] END learning_rate=0.1, loss=log_loss, max_depth=1, max_features=log2, min_samples_leaf=1, min_samples_split=4, n_estimators=10, subsample=0.2; total time=   0.0s\n",
      "[CV] END learning_rate=0.1, loss=log_loss, max_depth=1, max_features=log2, min_samples_leaf=1, min_samples_split=4, n_estimators=10, subsample=0.2; total time=   0.0s\n",
      "[CV] END learning_rate=0.1, loss=log_loss, max_depth=1, max_features=log2, min_samples_leaf=1, min_samples_split=4, n_estimators=10, subsample=0.2; total time=   0.0s\n",
      "[CV] END learning_rate=0.5, loss=log_loss, max_depth=3, max_features=sqrt, min_samples_leaf=5, min_samples_split=3, n_estimators=10, subsample=0.2; total time=   0.0s\n",
      "[CV] END learning_rate=0.5, loss=log_loss, max_depth=3, max_features=sqrt, min_samples_leaf=5, min_samples_split=3, n_estimators=10, subsample=0.2; total time=   0.0s\n",
      "[CV] END learning_rate=0.5, loss=log_loss, max_depth=3, max_features=sqrt, min_samples_leaf=5, min_samples_split=3, n_estimators=10, subsample=0.2; total time=   0.0s\n",
      "[CV] END learning_rate=0.5, loss=log_loss, max_depth=3, max_features=sqrt, min_samples_leaf=5, min_samples_split=3, n_estimators=10, subsample=0.2; total time=   0.0s\n",
      "[CV] END learning_rate=0.5, loss=log_loss, max_depth=3, max_features=sqrt, min_samples_leaf=5, min_samples_split=3, n_estimators=10, subsample=0.2; total time=   0.0s\n",
      "[CV] END learning_rate=0.5, loss=log_loss, max_depth=5, max_features=sqrt, min_samples_leaf=1, min_samples_split=10, n_estimators=10, subsample=0.5; total time=   0.1s\n",
      "[CV] END learning_rate=0.5, loss=log_loss, max_depth=5, max_features=sqrt, min_samples_leaf=1, min_samples_split=10, n_estimators=10, subsample=0.5; total time=   0.1s\n",
      "[CV] END learning_rate=0.5, loss=log_loss, max_depth=5, max_features=sqrt, min_samples_leaf=1, min_samples_split=10, n_estimators=10, subsample=0.5; total time=   0.1s\n",
      "[CV] END learning_rate=0.5, loss=log_loss, max_depth=5, max_features=sqrt, min_samples_leaf=1, min_samples_split=10, n_estimators=10, subsample=0.5; total time=   0.1s\n",
      "[CV] END learning_rate=0.5, loss=log_loss, max_depth=5, max_features=sqrt, min_samples_leaf=1, min_samples_split=10, n_estimators=10, subsample=0.5; total time=   0.1s\n",
      "[CV] END learning_rate=0.001, loss=log_loss, max_depth=2, max_features=sqrt, min_samples_leaf=5, min_samples_split=3, n_estimators=100, subsample=0.1; total time=   0.2s\n",
      "[CV] END learning_rate=0.001, loss=log_loss, max_depth=2, max_features=sqrt, min_samples_leaf=5, min_samples_split=3, n_estimators=100, subsample=0.1; total time=   0.2s\n",
      "[CV] END learning_rate=0.001, loss=log_loss, max_depth=2, max_features=sqrt, min_samples_leaf=5, min_samples_split=3, n_estimators=100, subsample=0.1; total time=   0.2s\n",
      "[CV] END learning_rate=0.001, loss=log_loss, max_depth=2, max_features=sqrt, min_samples_leaf=5, min_samples_split=3, n_estimators=100, subsample=0.1; total time=   0.2s\n",
      "[CV] END learning_rate=0.001, loss=log_loss, max_depth=2, max_features=sqrt, min_samples_leaf=5, min_samples_split=3, n_estimators=100, subsample=0.1; total time=   0.2s\n",
      "[CV] END learning_rate=0.01, loss=exponential, max_depth=5, max_features=sqrt, min_samples_leaf=3, min_samples_split=4, n_estimators=10, subsample=0.1; total time=   0.0s\n",
      "[CV] END learning_rate=0.01, loss=exponential, max_depth=5, max_features=sqrt, min_samples_leaf=3, min_samples_split=4, n_estimators=10, subsample=0.1; total time=   0.0s\n",
      "[CV] END learning_rate=0.01, loss=exponential, max_depth=5, max_features=sqrt, min_samples_leaf=3, min_samples_split=4, n_estimators=10, subsample=0.1; total time=   0.0s\n",
      "[CV] END learning_rate=0.01, loss=exponential, max_depth=5, max_features=sqrt, min_samples_leaf=3, min_samples_split=4, n_estimators=10, subsample=0.1; total time=   0.0s\n",
      "[CV] END learning_rate=0.01, loss=exponential, max_depth=5, max_features=sqrt, min_samples_leaf=3, min_samples_split=4, n_estimators=10, subsample=0.1; total time=   0.0s\n",
      "[CV] END learning_rate=0.1, loss=log_loss, max_depth=1, max_features=sqrt, min_samples_leaf=1, min_samples_split=20, n_estimators=1000, subsample=0.8; total time=   2.8s\n",
      "[CV] END learning_rate=0.1, loss=log_loss, max_depth=1, max_features=sqrt, min_samples_leaf=1, min_samples_split=20, n_estimators=1000, subsample=0.8; total time=   2.9s\n",
      "[CV] END learning_rate=0.1, loss=log_loss, max_depth=1, max_features=sqrt, min_samples_leaf=1, min_samples_split=20, n_estimators=1000, subsample=0.8; total time=   2.9s\n",
      "[CV] END learning_rate=0.1, loss=log_loss, max_depth=1, max_features=sqrt, min_samples_leaf=1, min_samples_split=20, n_estimators=1000, subsample=0.8; total time=   2.9s\n",
      "[CV] END learning_rate=0.1, loss=log_loss, max_depth=1, max_features=sqrt, min_samples_leaf=1, min_samples_split=20, n_estimators=1000, subsample=0.8; total time=   2.9s\n",
      "[CV] END learning_rate=0.01, loss=log_loss, max_depth=1, max_features=sqrt, min_samples_leaf=5, min_samples_split=5, n_estimators=1000, subsample=0.2; total time=   2.5s\n",
      "[CV] END learning_rate=0.01, loss=log_loss, max_depth=1, max_features=sqrt, min_samples_leaf=5, min_samples_split=5, n_estimators=1000, subsample=0.2; total time=   2.5s\n",
      "[CV] END learning_rate=0.01, loss=log_loss, max_depth=1, max_features=sqrt, min_samples_leaf=5, min_samples_split=5, n_estimators=1000, subsample=0.2; total time=   2.5s\n",
      "[CV] END learning_rate=0.01, loss=log_loss, max_depth=1, max_features=sqrt, min_samples_leaf=5, min_samples_split=5, n_estimators=1000, subsample=0.2; total time=   2.5s\n",
      "[CV] END learning_rate=0.01, loss=log_loss, max_depth=1, max_features=sqrt, min_samples_leaf=5, min_samples_split=5, n_estimators=1000, subsample=0.2; total time=   2.5s\n",
      "[CV] END learning_rate=0.01, loss=log_loss, max_depth=4, max_features=log2, min_samples_leaf=1, min_samples_split=4, n_estimators=10, subsample=0.1; total time=   0.0s\n",
      "[CV] END learning_rate=0.01, loss=log_loss, max_depth=4, max_features=log2, min_samples_leaf=1, min_samples_split=4, n_estimators=10, subsample=0.1; total time=   0.0s\n",
      "[CV] END learning_rate=0.01, loss=log_loss, max_depth=4, max_features=log2, min_samples_leaf=1, min_samples_split=4, n_estimators=10, subsample=0.1; total time=   0.0s\n",
      "[CV] END learning_rate=0.01, loss=log_loss, max_depth=4, max_features=log2, min_samples_leaf=1, min_samples_split=4, n_estimators=10, subsample=0.1; total time=   0.0s\n",
      "[CV] END learning_rate=0.01, loss=log_loss, max_depth=4, max_features=log2, min_samples_leaf=1, min_samples_split=4, n_estimators=10, subsample=0.1; total time=   0.0s\n",
      "[CV] END learning_rate=0.6, loss=exponential, max_depth=4, max_features=sqrt, min_samples_leaf=3, min_samples_split=2, n_estimators=100, subsample=0.1; total time=   0.3s\n",
      "[CV] END learning_rate=0.6, loss=exponential, max_depth=4, max_features=sqrt, min_samples_leaf=3, min_samples_split=2, n_estimators=100, subsample=0.1; total time=   0.3s\n",
      "[CV] END learning_rate=0.6, loss=exponential, max_depth=4, max_features=sqrt, min_samples_leaf=3, min_samples_split=2, n_estimators=100, subsample=0.1; total time=   0.3s\n",
      "[CV] END learning_rate=0.6, loss=exponential, max_depth=4, max_features=sqrt, min_samples_leaf=3, min_samples_split=2, n_estimators=100, subsample=0.1; total time=   0.3s\n",
      "[CV] END learning_rate=0.6, loss=exponential, max_depth=4, max_features=sqrt, min_samples_leaf=3, min_samples_split=2, n_estimators=100, subsample=0.1; total time=   0.3s\n",
      "[CV] END learning_rate=0.1, loss=log_loss, max_depth=3, max_features=sqrt, min_samples_leaf=2, min_samples_split=6, n_estimators=100, subsample=0.1; total time=   0.3s\n",
      "[CV] END learning_rate=0.1, loss=log_loss, max_depth=3, max_features=sqrt, min_samples_leaf=2, min_samples_split=6, n_estimators=100, subsample=0.1; total time=   0.3s\n"
     ]
    },
    {
     "name": "stdout",
     "output_type": "stream",
     "text": [
      "[CV] END learning_rate=0.1, loss=log_loss, max_depth=3, max_features=sqrt, min_samples_leaf=2, min_samples_split=6, n_estimators=100, subsample=0.1; total time=   0.3s\n",
      "[CV] END learning_rate=0.1, loss=log_loss, max_depth=3, max_features=sqrt, min_samples_leaf=2, min_samples_split=6, n_estimators=100, subsample=0.1; total time=   0.3s\n",
      "[CV] END learning_rate=0.1, loss=log_loss, max_depth=3, max_features=sqrt, min_samples_leaf=2, min_samples_split=6, n_estimators=100, subsample=0.1; total time=   0.3s\n",
      "[CV] END learning_rate=0.9, loss=log_loss, max_depth=4, max_features=sqrt, min_samples_leaf=5, min_samples_split=10, n_estimators=1000, subsample=0.2; total time=   3.8s\n",
      "[CV] END learning_rate=0.9, loss=log_loss, max_depth=4, max_features=sqrt, min_samples_leaf=5, min_samples_split=10, n_estimators=1000, subsample=0.2; total time=   3.9s\n",
      "[CV] END learning_rate=0.9, loss=log_loss, max_depth=4, max_features=sqrt, min_samples_leaf=5, min_samples_split=10, n_estimators=1000, subsample=0.2; total time=   3.6s\n",
      "[CV] END learning_rate=0.9, loss=log_loss, max_depth=4, max_features=sqrt, min_samples_leaf=5, min_samples_split=10, n_estimators=1000, subsample=0.2; total time=   3.7s\n",
      "[CV] END learning_rate=0.9, loss=log_loss, max_depth=4, max_features=sqrt, min_samples_leaf=5, min_samples_split=10, n_estimators=1000, subsample=0.2; total time=   3.7s\n",
      "[CV] END learning_rate=0.001, loss=log_loss, max_depth=3, max_features=log2, min_samples_leaf=1, min_samples_split=5, n_estimators=10, subsample=0.2; total time=   0.0s\n",
      "[CV] END learning_rate=0.001, loss=log_loss, max_depth=3, max_features=log2, min_samples_leaf=1, min_samples_split=5, n_estimators=10, subsample=0.2; total time=   0.0s\n",
      "[CV] END learning_rate=0.001, loss=log_loss, max_depth=3, max_features=log2, min_samples_leaf=1, min_samples_split=5, n_estimators=10, subsample=0.2; total time=   0.0s\n",
      "[CV] END learning_rate=0.001, loss=log_loss, max_depth=3, max_features=log2, min_samples_leaf=1, min_samples_split=5, n_estimators=10, subsample=0.2; total time=   0.0s\n",
      "[CV] END learning_rate=0.001, loss=log_loss, max_depth=3, max_features=log2, min_samples_leaf=1, min_samples_split=5, n_estimators=10, subsample=0.2; total time=   0.0s\n",
      "[CV] END learning_rate=0.01, loss=exponential, max_depth=4, max_features=log2, min_samples_leaf=3, min_samples_split=4, n_estimators=100, subsample=0.6; total time=   0.4s\n",
      "[CV] END learning_rate=0.01, loss=exponential, max_depth=4, max_features=log2, min_samples_leaf=3, min_samples_split=4, n_estimators=100, subsample=0.6; total time=   0.5s\n",
      "[CV] END learning_rate=0.01, loss=exponential, max_depth=4, max_features=log2, min_samples_leaf=3, min_samples_split=4, n_estimators=100, subsample=0.6; total time=   0.5s\n",
      "[CV] END learning_rate=0.01, loss=exponential, max_depth=4, max_features=log2, min_samples_leaf=3, min_samples_split=4, n_estimators=100, subsample=0.6; total time=   0.5s\n",
      "[CV] END learning_rate=0.01, loss=exponential, max_depth=4, max_features=log2, min_samples_leaf=3, min_samples_split=4, n_estimators=100, subsample=0.6; total time=   0.5s\n",
      "[CV] END learning_rate=0.9, loss=log_loss, max_depth=3, max_features=log2, min_samples_leaf=1, min_samples_split=20, n_estimators=10, subsample=0.6; total time=   0.0s\n",
      "[CV] END learning_rate=0.9, loss=log_loss, max_depth=3, max_features=log2, min_samples_leaf=1, min_samples_split=20, n_estimators=10, subsample=0.6; total time=   0.0s\n",
      "[CV] END learning_rate=0.9, loss=log_loss, max_depth=3, max_features=log2, min_samples_leaf=1, min_samples_split=20, n_estimators=10, subsample=0.6; total time=   0.0s\n",
      "[CV] END learning_rate=0.9, loss=log_loss, max_depth=3, max_features=log2, min_samples_leaf=1, min_samples_split=20, n_estimators=10, subsample=0.6; total time=   0.0s\n",
      "[CV] END learning_rate=0.9, loss=log_loss, max_depth=3, max_features=log2, min_samples_leaf=1, min_samples_split=20, n_estimators=10, subsample=0.6; total time=   0.1s\n",
      "[CV] END learning_rate=0.1, loss=log_loss, max_depth=4, max_features=log2, min_samples_leaf=5, min_samples_split=4, n_estimators=100, subsample=0.2; total time=   0.3s\n",
      "[CV] END learning_rate=0.1, loss=log_loss, max_depth=4, max_features=log2, min_samples_leaf=5, min_samples_split=4, n_estimators=100, subsample=0.2; total time=   0.3s\n",
      "[CV] END learning_rate=0.1, loss=log_loss, max_depth=4, max_features=log2, min_samples_leaf=5, min_samples_split=4, n_estimators=100, subsample=0.2; total time=   0.3s\n",
      "[CV] END learning_rate=0.1, loss=log_loss, max_depth=4, max_features=log2, min_samples_leaf=5, min_samples_split=4, n_estimators=100, subsample=0.2; total time=   0.3s\n",
      "[CV] END learning_rate=0.1, loss=log_loss, max_depth=4, max_features=log2, min_samples_leaf=5, min_samples_split=4, n_estimators=100, subsample=0.2; total time=   0.3s\n",
      "[CV] END learning_rate=0.01, loss=exponential, max_depth=5, max_features=sqrt, min_samples_leaf=2, min_samples_split=20, n_estimators=100, subsample=0.6; total time=   0.6s\n",
      "[CV] END learning_rate=0.01, loss=exponential, max_depth=5, max_features=sqrt, min_samples_leaf=2, min_samples_split=20, n_estimators=100, subsample=0.6; total time=   0.6s\n",
      "[CV] END learning_rate=0.01, loss=exponential, max_depth=5, max_features=sqrt, min_samples_leaf=2, min_samples_split=20, n_estimators=100, subsample=0.6; total time=   0.6s\n",
      "[CV] END learning_rate=0.01, loss=exponential, max_depth=5, max_features=sqrt, min_samples_leaf=2, min_samples_split=20, n_estimators=100, subsample=0.6; total time=   0.6s\n",
      "[CV] END learning_rate=0.01, loss=exponential, max_depth=5, max_features=sqrt, min_samples_leaf=2, min_samples_split=20, n_estimators=100, subsample=0.6; total time=   0.6s\n",
      "[CV] END learning_rate=0.01, loss=exponential, max_depth=3, max_features=log2, min_samples_leaf=3, min_samples_split=3, n_estimators=1000, subsample=0.5; total time=   3.5s\n",
      "[CV] END learning_rate=0.01, loss=exponential, max_depth=3, max_features=log2, min_samples_leaf=3, min_samples_split=3, n_estimators=1000, subsample=0.5; total time=   3.5s\n",
      "[CV] END learning_rate=0.01, loss=exponential, max_depth=3, max_features=log2, min_samples_leaf=3, min_samples_split=3, n_estimators=1000, subsample=0.5; total time=   3.6s\n",
      "[CV] END learning_rate=0.01, loss=exponential, max_depth=3, max_features=log2, min_samples_leaf=3, min_samples_split=3, n_estimators=1000, subsample=0.5; total time=   3.6s\n",
      "[CV] END learning_rate=0.01, loss=exponential, max_depth=3, max_features=log2, min_samples_leaf=3, min_samples_split=3, n_estimators=1000, subsample=0.5; total time=   3.6s\n",
      "[CV] END learning_rate=0.6, loss=exponential, max_depth=1, max_features=sqrt, min_samples_leaf=2, min_samples_split=10, n_estimators=1000, subsample=0.2; total time=   2.2s\n",
      "[CV] END learning_rate=0.6, loss=exponential, max_depth=1, max_features=sqrt, min_samples_leaf=2, min_samples_split=10, n_estimators=1000, subsample=0.2; total time=   2.1s\n",
      "[CV] END learning_rate=0.6, loss=exponential, max_depth=1, max_features=sqrt, min_samples_leaf=2, min_samples_split=10, n_estimators=1000, subsample=0.2; total time=   2.2s\n",
      "[CV] END learning_rate=0.6, loss=exponential, max_depth=1, max_features=sqrt, min_samples_leaf=2, min_samples_split=10, n_estimators=1000, subsample=0.2; total time=   2.1s\n",
      "[CV] END learning_rate=0.6, loss=exponential, max_depth=1, max_features=sqrt, min_samples_leaf=2, min_samples_split=10, n_estimators=1000, subsample=0.2; total time=   2.1s\n",
      "[CV] END learning_rate=0.6, loss=log_loss, max_depth=5, max_features=log2, min_samples_leaf=3, min_samples_split=5, n_estimators=100, subsample=0.9; total time=   0.5s\n",
      "[CV] END learning_rate=0.6, loss=log_loss, max_depth=5, max_features=log2, min_samples_leaf=3, min_samples_split=5, n_estimators=100, subsample=0.9; total time=   0.5s\n",
      "[CV] END learning_rate=0.6, loss=log_loss, max_depth=5, max_features=log2, min_samples_leaf=3, min_samples_split=5, n_estimators=100, subsample=0.9; total time=   0.5s\n",
      "[CV] END learning_rate=0.6, loss=log_loss, max_depth=5, max_features=log2, min_samples_leaf=3, min_samples_split=5, n_estimators=100, subsample=0.9; total time=   0.5s\n",
      "[CV] END learning_rate=0.6, loss=log_loss, max_depth=5, max_features=log2, min_samples_leaf=3, min_samples_split=5, n_estimators=100, subsample=0.9; total time=   0.5s\n",
      "[CV] END learning_rate=0.5, loss=exponential, max_depth=1, max_features=sqrt, min_samples_leaf=1, min_samples_split=10, n_estimators=1000, subsample=0.9; total time=   2.4s\n"
     ]
    },
    {
     "name": "stdout",
     "output_type": "stream",
     "text": [
      "[CV] END learning_rate=0.5, loss=exponential, max_depth=1, max_features=sqrt, min_samples_leaf=1, min_samples_split=10, n_estimators=1000, subsample=0.9; total time=   2.5s\n",
      "[CV] END learning_rate=0.5, loss=exponential, max_depth=1, max_features=sqrt, min_samples_leaf=1, min_samples_split=10, n_estimators=1000, subsample=0.9; total time=   2.5s\n",
      "[CV] END learning_rate=0.5, loss=exponential, max_depth=1, max_features=sqrt, min_samples_leaf=1, min_samples_split=10, n_estimators=1000, subsample=0.9; total time=   2.4s\n",
      "[CV] END learning_rate=0.5, loss=exponential, max_depth=1, max_features=sqrt, min_samples_leaf=1, min_samples_split=10, n_estimators=1000, subsample=0.9; total time=   2.4s\n",
      "[CV] END learning_rate=0.9, loss=exponential, max_depth=4, max_features=sqrt, min_samples_leaf=2, min_samples_split=4, n_estimators=10, subsample=0.8; total time=   0.1s\n",
      "[CV] END learning_rate=0.9, loss=exponential, max_depth=4, max_features=sqrt, min_samples_leaf=2, min_samples_split=4, n_estimators=10, subsample=0.8; total time=   0.1s\n",
      "[CV] END learning_rate=0.9, loss=exponential, max_depth=4, max_features=sqrt, min_samples_leaf=2, min_samples_split=4, n_estimators=10, subsample=0.8; total time=   0.1s\n",
      "[CV] END learning_rate=0.9, loss=exponential, max_depth=4, max_features=sqrt, min_samples_leaf=2, min_samples_split=4, n_estimators=10, subsample=0.8; total time=   0.0s\n",
      "[CV] END learning_rate=0.9, loss=exponential, max_depth=4, max_features=sqrt, min_samples_leaf=2, min_samples_split=4, n_estimators=10, subsample=0.8; total time=   0.1s\n",
      "[CV] END learning_rate=0.001, loss=exponential, max_depth=5, max_features=sqrt, min_samples_leaf=5, min_samples_split=2, n_estimators=1000, subsample=0.8; total time=   6.6s\n",
      "[CV] END learning_rate=0.001, loss=exponential, max_depth=5, max_features=sqrt, min_samples_leaf=5, min_samples_split=2, n_estimators=1000, subsample=0.8; total time=   6.7s\n",
      "[CV] END learning_rate=0.001, loss=exponential, max_depth=5, max_features=sqrt, min_samples_leaf=5, min_samples_split=2, n_estimators=1000, subsample=0.8; total time=   6.8s\n",
      "[CV] END learning_rate=0.001, loss=exponential, max_depth=5, max_features=sqrt, min_samples_leaf=5, min_samples_split=2, n_estimators=1000, subsample=0.8; total time=   6.7s\n",
      "[CV] END learning_rate=0.001, loss=exponential, max_depth=5, max_features=sqrt, min_samples_leaf=5, min_samples_split=2, n_estimators=1000, subsample=0.8; total time=   6.7s\n",
      "[CV] END learning_rate=0.1, loss=log_loss, max_depth=3, max_features=log2, min_samples_leaf=3, min_samples_split=4, n_estimators=100, subsample=0.8; total time=   0.4s\n",
      "[CV] END learning_rate=0.1, loss=log_loss, max_depth=3, max_features=log2, min_samples_leaf=3, min_samples_split=4, n_estimators=100, subsample=0.8; total time=   0.4s\n",
      "[CV] END learning_rate=0.1, loss=log_loss, max_depth=3, max_features=log2, min_samples_leaf=3, min_samples_split=4, n_estimators=100, subsample=0.8; total time=   0.4s\n",
      "[CV] END learning_rate=0.1, loss=log_loss, max_depth=3, max_features=log2, min_samples_leaf=3, min_samples_split=4, n_estimators=100, subsample=0.8; total time=   0.4s\n",
      "[CV] END learning_rate=0.1, loss=log_loss, max_depth=3, max_features=log2, min_samples_leaf=3, min_samples_split=4, n_estimators=100, subsample=0.8; total time=   0.4s\n",
      "[CV] END learning_rate=0.001, loss=exponential, max_depth=3, max_features=log2, min_samples_leaf=3, min_samples_split=2, n_estimators=1000, subsample=0.5; total time=   3.6s\n",
      "[CV] END learning_rate=0.001, loss=exponential, max_depth=3, max_features=log2, min_samples_leaf=3, min_samples_split=2, n_estimators=1000, subsample=0.5; total time=   3.6s\n",
      "[CV] END learning_rate=0.001, loss=exponential, max_depth=3, max_features=log2, min_samples_leaf=3, min_samples_split=2, n_estimators=1000, subsample=0.5; total time=   3.7s\n",
      "[CV] END learning_rate=0.001, loss=exponential, max_depth=3, max_features=log2, min_samples_leaf=3, min_samples_split=2, n_estimators=1000, subsample=0.5; total time=   3.6s\n",
      "[CV] END learning_rate=0.001, loss=exponential, max_depth=3, max_features=log2, min_samples_leaf=3, min_samples_split=2, n_estimators=1000, subsample=0.5; total time=   3.6s\n",
      "[CV] END learning_rate=0.1, loss=exponential, max_depth=4, max_features=log2, min_samples_leaf=3, min_samples_split=5, n_estimators=10, subsample=0.1; total time=   0.0s\n",
      "[CV] END learning_rate=0.1, loss=exponential, max_depth=4, max_features=log2, min_samples_leaf=3, min_samples_split=5, n_estimators=10, subsample=0.1; total time=   0.0s\n",
      "[CV] END learning_rate=0.1, loss=exponential, max_depth=4, max_features=log2, min_samples_leaf=3, min_samples_split=5, n_estimators=10, subsample=0.1; total time=   0.0s\n",
      "[CV] END learning_rate=0.1, loss=exponential, max_depth=4, max_features=log2, min_samples_leaf=3, min_samples_split=5, n_estimators=10, subsample=0.1; total time=   0.0s\n",
      "[CV] END learning_rate=0.1, loss=exponential, max_depth=4, max_features=log2, min_samples_leaf=3, min_samples_split=5, n_estimators=10, subsample=0.1; total time=   0.0s\n",
      "[CV] END learning_rate=0.6, loss=log_loss, max_depth=1, max_features=log2, min_samples_leaf=2, min_samples_split=5, n_estimators=10, subsample=0.2; total time=   0.0s\n",
      "[CV] END learning_rate=0.6, loss=log_loss, max_depth=1, max_features=log2, min_samples_leaf=2, min_samples_split=5, n_estimators=10, subsample=0.2; total time=   0.0s\n",
      "[CV] END learning_rate=0.6, loss=log_loss, max_depth=1, max_features=log2, min_samples_leaf=2, min_samples_split=5, n_estimators=10, subsample=0.2; total time=   0.0s\n",
      "[CV] END learning_rate=0.6, loss=log_loss, max_depth=1, max_features=log2, min_samples_leaf=2, min_samples_split=5, n_estimators=10, subsample=0.2; total time=   0.0s\n",
      "[CV] END learning_rate=0.6, loss=log_loss, max_depth=1, max_features=log2, min_samples_leaf=2, min_samples_split=5, n_estimators=10, subsample=0.2; total time=   0.0s\n",
      "[CV] END learning_rate=0.9, loss=log_loss, max_depth=1, max_features=sqrt, min_samples_leaf=3, min_samples_split=20, n_estimators=10, subsample=0.9; total time=   0.0s\n",
      "[CV] END learning_rate=0.9, loss=log_loss, max_depth=1, max_features=sqrt, min_samples_leaf=3, min_samples_split=20, n_estimators=10, subsample=0.9; total time=   0.0s\n",
      "[CV] END learning_rate=0.9, loss=log_loss, max_depth=1, max_features=sqrt, min_samples_leaf=3, min_samples_split=20, n_estimators=10, subsample=0.9; total time=   0.0s\n",
      "[CV] END learning_rate=0.9, loss=log_loss, max_depth=1, max_features=sqrt, min_samples_leaf=3, min_samples_split=20, n_estimators=10, subsample=0.9; total time=   0.0s\n",
      "[CV] END learning_rate=0.9, loss=log_loss, max_depth=1, max_features=sqrt, min_samples_leaf=3, min_samples_split=20, n_estimators=10, subsample=0.9; total time=   0.0s\n",
      "[CV] END learning_rate=0.5, loss=exponential, max_depth=2, max_features=log2, min_samples_leaf=5, min_samples_split=10, n_estimators=1000, subsample=0.9; total time=   2.8s\n",
      "[CV] END learning_rate=0.5, loss=exponential, max_depth=2, max_features=log2, min_samples_leaf=5, min_samples_split=10, n_estimators=1000, subsample=0.9; total time=   2.8s\n",
      "[CV] END learning_rate=0.5, loss=exponential, max_depth=2, max_features=log2, min_samples_leaf=5, min_samples_split=10, n_estimators=1000, subsample=0.9; total time=   2.8s\n",
      "[CV] END learning_rate=0.5, loss=exponential, max_depth=2, max_features=log2, min_samples_leaf=5, min_samples_split=10, n_estimators=1000, subsample=0.9; total time=   2.8s\n",
      "[CV] END learning_rate=0.5, loss=exponential, max_depth=2, max_features=log2, min_samples_leaf=5, min_samples_split=10, n_estimators=1000, subsample=0.9; total time=   2.8s\n",
      "[CV] END learning_rate=0.1, loss=exponential, max_depth=3, max_features=log2, min_samples_leaf=5, min_samples_split=5, n_estimators=100, subsample=0.6; total time=   0.4s\n",
      "[CV] END learning_rate=0.1, loss=exponential, max_depth=3, max_features=log2, min_samples_leaf=5, min_samples_split=5, n_estimators=100, subsample=0.6; total time=   0.4s\n",
      "[CV] END learning_rate=0.1, loss=exponential, max_depth=3, max_features=log2, min_samples_leaf=5, min_samples_split=5, n_estimators=100, subsample=0.6; total time=   0.4s\n",
      "[CV] END learning_rate=0.1, loss=exponential, max_depth=3, max_features=log2, min_samples_leaf=5, min_samples_split=5, n_estimators=100, subsample=0.6; total time=   0.4s\n"
     ]
    },
    {
     "name": "stdout",
     "output_type": "stream",
     "text": [
      "[CV] END learning_rate=0.1, loss=exponential, max_depth=3, max_features=log2, min_samples_leaf=5, min_samples_split=5, n_estimators=100, subsample=0.6; total time=   0.4s\n",
      "[CV] END learning_rate=0.001, loss=exponential, max_depth=1, max_features=log2, min_samples_leaf=2, min_samples_split=4, n_estimators=100, subsample=0.8; total time=   0.3s\n",
      "[CV] END learning_rate=0.001, loss=exponential, max_depth=1, max_features=log2, min_samples_leaf=2, min_samples_split=4, n_estimators=100, subsample=0.8; total time=   0.3s\n",
      "[CV] END learning_rate=0.001, loss=exponential, max_depth=1, max_features=log2, min_samples_leaf=2, min_samples_split=4, n_estimators=100, subsample=0.8; total time=   0.3s\n",
      "[CV] END learning_rate=0.001, loss=exponential, max_depth=1, max_features=log2, min_samples_leaf=2, min_samples_split=4, n_estimators=100, subsample=0.8; total time=   0.3s\n",
      "[CV] END learning_rate=0.001, loss=exponential, max_depth=1, max_features=log2, min_samples_leaf=2, min_samples_split=4, n_estimators=100, subsample=0.8; total time=   0.3s\n",
      "[CV] END learning_rate=0.6, loss=log_loss, max_depth=5, max_features=log2, min_samples_leaf=1, min_samples_split=3, n_estimators=10, subsample=0.2; total time=   0.0s\n",
      "[CV] END learning_rate=0.6, loss=log_loss, max_depth=5, max_features=log2, min_samples_leaf=1, min_samples_split=3, n_estimators=10, subsample=0.2; total time=   0.0s\n",
      "[CV] END learning_rate=0.6, loss=log_loss, max_depth=5, max_features=log2, min_samples_leaf=1, min_samples_split=3, n_estimators=10, subsample=0.2; total time=   0.0s\n",
      "[CV] END learning_rate=0.6, loss=log_loss, max_depth=5, max_features=log2, min_samples_leaf=1, min_samples_split=3, n_estimators=10, subsample=0.2; total time=   0.0s\n",
      "[CV] END learning_rate=0.6, loss=log_loss, max_depth=5, max_features=log2, min_samples_leaf=1, min_samples_split=3, n_estimators=10, subsample=0.2; total time=   0.0s\n",
      "[CV] END learning_rate=0.5, loss=exponential, max_depth=2, max_features=log2, min_samples_leaf=2, min_samples_split=20, n_estimators=100, subsample=0.1; total time=   0.2s\n",
      "[CV] END learning_rate=0.5, loss=exponential, max_depth=2, max_features=log2, min_samples_leaf=2, min_samples_split=20, n_estimators=100, subsample=0.1; total time=   0.2s\n",
      "[CV] END learning_rate=0.5, loss=exponential, max_depth=2, max_features=log2, min_samples_leaf=2, min_samples_split=20, n_estimators=100, subsample=0.1; total time=   0.2s\n",
      "[CV] END learning_rate=0.5, loss=exponential, max_depth=2, max_features=log2, min_samples_leaf=2, min_samples_split=20, n_estimators=100, subsample=0.1; total time=   0.2s\n",
      "[CV] END learning_rate=0.5, loss=exponential, max_depth=2, max_features=log2, min_samples_leaf=2, min_samples_split=20, n_estimators=100, subsample=0.1; total time=   0.2s\n",
      "[CV] END learning_rate=0.001, loss=log_loss, max_depth=2, max_features=sqrt, min_samples_leaf=1, min_samples_split=20, n_estimators=1000, subsample=0.5; total time=   3.6s\n",
      "[CV] END learning_rate=0.001, loss=log_loss, max_depth=2, max_features=sqrt, min_samples_leaf=1, min_samples_split=20, n_estimators=1000, subsample=0.5; total time=   3.6s\n",
      "[CV] END learning_rate=0.001, loss=log_loss, max_depth=2, max_features=sqrt, min_samples_leaf=1, min_samples_split=20, n_estimators=1000, subsample=0.5; total time=   3.6s\n",
      "[CV] END learning_rate=0.001, loss=log_loss, max_depth=2, max_features=sqrt, min_samples_leaf=1, min_samples_split=20, n_estimators=1000, subsample=0.5; total time=   3.6s\n",
      "[CV] END learning_rate=0.001, loss=log_loss, max_depth=2, max_features=sqrt, min_samples_leaf=1, min_samples_split=20, n_estimators=1000, subsample=0.5; total time=   3.6s\n",
      "[CV] END learning_rate=0.1, loss=exponential, max_depth=3, max_features=sqrt, min_samples_leaf=2, min_samples_split=10, n_estimators=100, subsample=0.9; total time=   0.4s\n",
      "[CV] END learning_rate=0.1, loss=exponential, max_depth=3, max_features=sqrt, min_samples_leaf=2, min_samples_split=10, n_estimators=100, subsample=0.9; total time=   0.4s\n",
      "[CV] END learning_rate=0.1, loss=exponential, max_depth=3, max_features=sqrt, min_samples_leaf=2, min_samples_split=10, n_estimators=100, subsample=0.9; total time=   0.4s\n",
      "[CV] END learning_rate=0.1, loss=exponential, max_depth=3, max_features=sqrt, min_samples_leaf=2, min_samples_split=10, n_estimators=100, subsample=0.9; total time=   0.4s\n",
      "[CV] END learning_rate=0.1, loss=exponential, max_depth=3, max_features=sqrt, min_samples_leaf=2, min_samples_split=10, n_estimators=100, subsample=0.9; total time=   0.4s\n",
      "[CV] END learning_rate=0.5, loss=exponential, max_depth=5, max_features=sqrt, min_samples_leaf=2, min_samples_split=6, n_estimators=1000, subsample=0.9; total time=   6.3s\n",
      "[CV] END learning_rate=0.5, loss=exponential, max_depth=5, max_features=sqrt, min_samples_leaf=2, min_samples_split=6, n_estimators=1000, subsample=0.9; total time=   6.4s\n",
      "[CV] END learning_rate=0.5, loss=exponential, max_depth=5, max_features=sqrt, min_samples_leaf=2, min_samples_split=6, n_estimators=1000, subsample=0.9; total time=   6.7s\n",
      "[CV] END learning_rate=0.5, loss=exponential, max_depth=5, max_features=sqrt, min_samples_leaf=2, min_samples_split=6, n_estimators=1000, subsample=0.9; total time=   6.5s\n",
      "[CV] END learning_rate=0.5, loss=exponential, max_depth=5, max_features=sqrt, min_samples_leaf=2, min_samples_split=6, n_estimators=1000, subsample=0.9; total time=   6.4s\n",
      "[CV] END learning_rate=0.001, loss=log_loss, max_depth=3, max_features=log2, min_samples_leaf=2, min_samples_split=20, n_estimators=100, subsample=0.5; total time=   0.4s\n",
      "[CV] END learning_rate=0.001, loss=log_loss, max_depth=3, max_features=log2, min_samples_leaf=2, min_samples_split=20, n_estimators=100, subsample=0.5; total time=   0.4s\n",
      "[CV] END learning_rate=0.001, loss=log_loss, max_depth=3, max_features=log2, min_samples_leaf=2, min_samples_split=20, n_estimators=100, subsample=0.5; total time=   0.4s\n",
      "[CV] END learning_rate=0.001, loss=log_loss, max_depth=3, max_features=log2, min_samples_leaf=2, min_samples_split=20, n_estimators=100, subsample=0.5; total time=   0.4s\n",
      "[CV] END learning_rate=0.001, loss=log_loss, max_depth=3, max_features=log2, min_samples_leaf=2, min_samples_split=20, n_estimators=100, subsample=0.5; total time=   0.4s\n",
      "[CV] END learning_rate=0.1, loss=exponential, max_depth=5, max_features=log2, min_samples_leaf=3, min_samples_split=2, n_estimators=10, subsample=0.9; total time=   0.1s\n",
      "[CV] END learning_rate=0.1, loss=exponential, max_depth=5, max_features=log2, min_samples_leaf=3, min_samples_split=2, n_estimators=10, subsample=0.9; total time=   0.1s\n",
      "[CV] END learning_rate=0.1, loss=exponential, max_depth=5, max_features=log2, min_samples_leaf=3, min_samples_split=2, n_estimators=10, subsample=0.9; total time=   0.1s\n",
      "[CV] END learning_rate=0.1, loss=exponential, max_depth=5, max_features=log2, min_samples_leaf=3, min_samples_split=2, n_estimators=10, subsample=0.9; total time=   0.1s\n",
      "[CV] END learning_rate=0.1, loss=exponential, max_depth=5, max_features=log2, min_samples_leaf=3, min_samples_split=2, n_estimators=10, subsample=0.9; total time=   0.1s\n",
      "[CV] END learning_rate=0.01, loss=exponential, max_depth=3, max_features=sqrt, min_samples_leaf=3, min_samples_split=2, n_estimators=1000, subsample=0.8; total time=   4.0s\n",
      "[CV] END learning_rate=0.01, loss=exponential, max_depth=3, max_features=sqrt, min_samples_leaf=3, min_samples_split=2, n_estimators=1000, subsample=0.8; total time=   4.1s\n",
      "[CV] END learning_rate=0.01, loss=exponential, max_depth=3, max_features=sqrt, min_samples_leaf=3, min_samples_split=2, n_estimators=1000, subsample=0.8; total time=   4.3s\n",
      "[CV] END learning_rate=0.01, loss=exponential, max_depth=3, max_features=sqrt, min_samples_leaf=3, min_samples_split=2, n_estimators=1000, subsample=0.8; total time=   4.0s\n",
      "[CV] END learning_rate=0.01, loss=exponential, max_depth=3, max_features=sqrt, min_samples_leaf=3, min_samples_split=2, n_estimators=1000, subsample=0.8; total time=   4.1s\n",
      "[CV] END learning_rate=0.5, loss=log_loss, max_depth=1, max_features=sqrt, min_samples_leaf=3, min_samples_split=20, n_estimators=10, subsample=0.2; total time=   0.0s\n",
      "[CV] END learning_rate=0.5, loss=log_loss, max_depth=1, max_features=sqrt, min_samples_leaf=3, min_samples_split=20, n_estimators=10, subsample=0.2; total time=   0.0s\n",
      "[CV] END learning_rate=0.5, loss=log_loss, max_depth=1, max_features=sqrt, min_samples_leaf=3, min_samples_split=20, n_estimators=10, subsample=0.2; total time=   0.0s\n",
      "[CV] END learning_rate=0.5, loss=log_loss, max_depth=1, max_features=sqrt, min_samples_leaf=3, min_samples_split=20, n_estimators=10, subsample=0.2; total time=   0.0s\n",
      "[CV] END learning_rate=0.5, loss=log_loss, max_depth=1, max_features=sqrt, min_samples_leaf=3, min_samples_split=20, n_estimators=10, subsample=0.2; total time=   0.0s\n"
     ]
    },
    {
     "name": "stdout",
     "output_type": "stream",
     "text": [
      "[CV] END learning_rate=0.6, loss=log_loss, max_depth=4, max_features=log2, min_samples_leaf=3, min_samples_split=3, n_estimators=1000, subsample=0.2; total time=   3.3s\n",
      "[CV] END learning_rate=0.6, loss=log_loss, max_depth=4, max_features=log2, min_samples_leaf=3, min_samples_split=3, n_estimators=1000, subsample=0.2; total time=   3.4s\n",
      "[CV] END learning_rate=0.6, loss=log_loss, max_depth=4, max_features=log2, min_samples_leaf=3, min_samples_split=3, n_estimators=1000, subsample=0.2; total time=   3.3s\n",
      "[CV] END learning_rate=0.6, loss=log_loss, max_depth=4, max_features=log2, min_samples_leaf=3, min_samples_split=3, n_estimators=1000, subsample=0.2; total time=   3.4s\n",
      "[CV] END learning_rate=0.6, loss=log_loss, max_depth=4, max_features=log2, min_samples_leaf=3, min_samples_split=3, n_estimators=1000, subsample=0.2; total time=   3.4s\n"
     ]
    },
    {
     "data": {
      "text/html": [
       "<style>#sk-container-id-1 {color: black;}#sk-container-id-1 pre{padding: 0;}#sk-container-id-1 div.sk-toggleable {background-color: white;}#sk-container-id-1 label.sk-toggleable__label {cursor: pointer;display: block;width: 100%;margin-bottom: 0;padding: 0.3em;box-sizing: border-box;text-align: center;}#sk-container-id-1 label.sk-toggleable__label-arrow:before {content: \"▸\";float: left;margin-right: 0.25em;color: #696969;}#sk-container-id-1 label.sk-toggleable__label-arrow:hover:before {color: black;}#sk-container-id-1 div.sk-estimator:hover label.sk-toggleable__label-arrow:before {color: black;}#sk-container-id-1 div.sk-toggleable__content {max-height: 0;max-width: 0;overflow: hidden;text-align: left;background-color: #f0f8ff;}#sk-container-id-1 div.sk-toggleable__content pre {margin: 0.2em;color: black;border-radius: 0.25em;background-color: #f0f8ff;}#sk-container-id-1 input.sk-toggleable__control:checked~div.sk-toggleable__content {max-height: 200px;max-width: 100%;overflow: auto;}#sk-container-id-1 input.sk-toggleable__control:checked~label.sk-toggleable__label-arrow:before {content: \"▾\";}#sk-container-id-1 div.sk-estimator input.sk-toggleable__control:checked~label.sk-toggleable__label {background-color: #d4ebff;}#sk-container-id-1 div.sk-label input.sk-toggleable__control:checked~label.sk-toggleable__label {background-color: #d4ebff;}#sk-container-id-1 input.sk-hidden--visually {border: 0;clip: rect(1px 1px 1px 1px);clip: rect(1px, 1px, 1px, 1px);height: 1px;margin: -1px;overflow: hidden;padding: 0;position: absolute;width: 1px;}#sk-container-id-1 div.sk-estimator {font-family: monospace;background-color: #f0f8ff;border: 1px dotted black;border-radius: 0.25em;box-sizing: border-box;margin-bottom: 0.5em;}#sk-container-id-1 div.sk-estimator:hover {background-color: #d4ebff;}#sk-container-id-1 div.sk-parallel-item::after {content: \"\";width: 100%;border-bottom: 1px solid gray;flex-grow: 1;}#sk-container-id-1 div.sk-label:hover label.sk-toggleable__label {background-color: #d4ebff;}#sk-container-id-1 div.sk-serial::before {content: \"\";position: absolute;border-left: 1px solid gray;box-sizing: border-box;top: 0;bottom: 0;left: 50%;z-index: 0;}#sk-container-id-1 div.sk-serial {display: flex;flex-direction: column;align-items: center;background-color: white;padding-right: 0.2em;padding-left: 0.2em;position: relative;}#sk-container-id-1 div.sk-item {position: relative;z-index: 1;}#sk-container-id-1 div.sk-parallel {display: flex;align-items: stretch;justify-content: center;background-color: white;position: relative;}#sk-container-id-1 div.sk-item::before, #sk-container-id-1 div.sk-parallel-item::before {content: \"\";position: absolute;border-left: 1px solid gray;box-sizing: border-box;top: 0;bottom: 0;left: 50%;z-index: -1;}#sk-container-id-1 div.sk-parallel-item {display: flex;flex-direction: column;z-index: 1;position: relative;background-color: white;}#sk-container-id-1 div.sk-parallel-item:first-child::after {align-self: flex-end;width: 50%;}#sk-container-id-1 div.sk-parallel-item:last-child::after {align-self: flex-start;width: 50%;}#sk-container-id-1 div.sk-parallel-item:only-child::after {width: 0;}#sk-container-id-1 div.sk-dashed-wrapped {border: 1px dashed gray;margin: 0 0.4em 0.5em 0.4em;box-sizing: border-box;padding-bottom: 0.4em;background-color: white;}#sk-container-id-1 div.sk-label label {font-family: monospace;font-weight: bold;display: inline-block;line-height: 1.2em;}#sk-container-id-1 div.sk-label-container {text-align: center;}#sk-container-id-1 div.sk-container {/* jupyter's `normalize.less` sets `[hidden] { display: none; }` but bootstrap.min.css set `[hidden] { display: none !important; }` so we also need the `!important` here to be able to override the default hidden behavior on the sphinx rendered scikit-learn.org. See: https://github.com/scikit-learn/scikit-learn/issues/21755 */display: inline-block !important;position: relative;}#sk-container-id-1 div.sk-text-repr-fallback {display: none;}</style><div id=\"sk-container-id-1\" class=\"sk-top-container\"><div class=\"sk-text-repr-fallback\"><pre>RandomizedSearchCV(cv=5, estimator=GradientBoostingClassifier(), n_iter=100,\n",
       "                   param_distributions={&#x27;learning_rate&#x27;: [0.001, 0.01, 0.1, 0.5,\n",
       "                                                          0.6, 0.9],\n",
       "                                        &#x27;loss&#x27;: [&#x27;log_loss&#x27;, &#x27;exponential&#x27;],\n",
       "                                        &#x27;max_depth&#x27;: [1, 2, 3, 4, 5],\n",
       "                                        &#x27;max_features&#x27;: [&#x27;sqrt&#x27;, &#x27;log2&#x27;],\n",
       "                                        &#x27;min_samples_leaf&#x27;: [1, 2, 3, 5],\n",
       "                                        &#x27;min_samples_split&#x27;: [2, 3, 4, 5, 6, 10,\n",
       "                                                              20],\n",
       "                                        &#x27;n_estimators&#x27;: [10, 100, 1000],\n",
       "                                        &#x27;subsample&#x27;: [0.1, 0.2, 0.5, 0.6, 0.8,\n",
       "                                                      0.9]},\n",
       "                   random_state=168, verbose=2)</pre><b>In a Jupyter environment, please rerun this cell to show the HTML representation or trust the notebook. <br />On GitHub, the HTML representation is unable to render, please try loading this page with nbviewer.org.</b></div><div class=\"sk-container\" hidden><div class=\"sk-item sk-dashed-wrapped\"><div class=\"sk-label-container\"><div class=\"sk-label sk-toggleable\"><input class=\"sk-toggleable__control sk-hidden--visually\" id=\"sk-estimator-id-1\" type=\"checkbox\" ><label for=\"sk-estimator-id-1\" class=\"sk-toggleable__label sk-toggleable__label-arrow\">RandomizedSearchCV</label><div class=\"sk-toggleable__content\"><pre>RandomizedSearchCV(cv=5, estimator=GradientBoostingClassifier(), n_iter=100,\n",
       "                   param_distributions={&#x27;learning_rate&#x27;: [0.001, 0.01, 0.1, 0.5,\n",
       "                                                          0.6, 0.9],\n",
       "                                        &#x27;loss&#x27;: [&#x27;log_loss&#x27;, &#x27;exponential&#x27;],\n",
       "                                        &#x27;max_depth&#x27;: [1, 2, 3, 4, 5],\n",
       "                                        &#x27;max_features&#x27;: [&#x27;sqrt&#x27;, &#x27;log2&#x27;],\n",
       "                                        &#x27;min_samples_leaf&#x27;: [1, 2, 3, 5],\n",
       "                                        &#x27;min_samples_split&#x27;: [2, 3, 4, 5, 6, 10,\n",
       "                                                              20],\n",
       "                                        &#x27;n_estimators&#x27;: [10, 100, 1000],\n",
       "                                        &#x27;subsample&#x27;: [0.1, 0.2, 0.5, 0.6, 0.8,\n",
       "                                                      0.9]},\n",
       "                   random_state=168, verbose=2)</pre></div></div></div><div class=\"sk-parallel\"><div class=\"sk-parallel-item\"><div class=\"sk-item\"><div class=\"sk-label-container\"><div class=\"sk-label sk-toggleable\"><input class=\"sk-toggleable__control sk-hidden--visually\" id=\"sk-estimator-id-2\" type=\"checkbox\" ><label for=\"sk-estimator-id-2\" class=\"sk-toggleable__label sk-toggleable__label-arrow\">estimator: GradientBoostingClassifier</label><div class=\"sk-toggleable__content\"><pre>GradientBoostingClassifier()</pre></div></div></div><div class=\"sk-serial\"><div class=\"sk-item\"><div class=\"sk-estimator sk-toggleable\"><input class=\"sk-toggleable__control sk-hidden--visually\" id=\"sk-estimator-id-3\" type=\"checkbox\" ><label for=\"sk-estimator-id-3\" class=\"sk-toggleable__label sk-toggleable__label-arrow\">GradientBoostingClassifier</label><div class=\"sk-toggleable__content\"><pre>GradientBoostingClassifier()</pre></div></div></div></div></div></div></div></div></div></div>"
      ],
      "text/plain": [
       "RandomizedSearchCV(cv=5, estimator=GradientBoostingClassifier(), n_iter=100,\n",
       "                   param_distributions={'learning_rate': [0.001, 0.01, 0.1, 0.5,\n",
       "                                                          0.6, 0.9],\n",
       "                                        'loss': ['log_loss', 'exponential'],\n",
       "                                        'max_depth': [1, 2, 3, 4, 5],\n",
       "                                        'max_features': ['sqrt', 'log2'],\n",
       "                                        'min_samples_leaf': [1, 2, 3, 5],\n",
       "                                        'min_samples_split': [2, 3, 4, 5, 6, 10,\n",
       "                                                              20],\n",
       "                                        'n_estimators': [10, 100, 1000],\n",
       "                                        'subsample': [0.1, 0.2, 0.5, 0.6, 0.8,\n",
       "                                                      0.9]},\n",
       "                   random_state=168, verbose=2)"
      ]
     },
     "execution_count": 153,
     "metadata": {},
     "output_type": "execute_result"
    }
   ],
   "source": [
    "%%timeit\n",
    "# Create the hyperparameters to search over\n",
    "hyperparameters = {\n",
    "    'loss': ['log_loss', 'exponential'],\n",
    "    'learning_rate': [0.001, 0.01, 0.1, 0.5, 0.6, 0.9],\n",
    "    'n_estimators': [10, 100, 1000],\n",
    "    'min_samples_split': [2, 3, 4, 5, 6, 10, 20],\n",
    "    'min_samples_leaf': [1, 2, 3, 5],\n",
    "    'subsample': [0.1, 0.2, 0.5, 0.6, 0.8, 0.9],\n",
    "    'max_depth': [1, 2, 3, 4, 5],\n",
    "    'max_features': ['sqrt', 'log2']\n",
    "    \n",
    "}\n",
    "\n",
    "# Create the cross-validation object\n",
    "cv = RandomizedSearchCV(\n",
    "    estimator=GradientBoostingClassifier(),\n",
    "    param_distributions=hyperparameters,\n",
    "    n_iter=100,\n",
    "    cv=5,\n",
    "    verbose=2,\n",
    "    random_state=seed\n",
    ")\n",
    "\n",
    "# Fit the cross-validation object to the training data\n",
    "cv.fit(train_X, train_y)"
   ]
  },
  {
   "cell_type": "code",
   "execution_count": 154,
   "id": "2aa09af9",
   "metadata": {},
   "outputs": [
    {
     "name": "stdout",
     "output_type": "stream",
     "text": [
      "Best score: 0.869071449605211 achieved with params: \n",
      "{'subsample': 0.9, 'n_estimators': 1000, 'min_samples_split': 4, 'min_samples_leaf': 1, 'max_features': 'sqrt', 'max_depth': 3, 'loss': 'log_loss', 'learning_rate': 0.1}\n"
     ]
    }
   ],
   "source": [
    "# Print results\n",
    "print(f'Best score: {cv.best_score_} achieved with params: \\n{cv.best_params_}')"
   ]
  },
  {
   "cell_type": "markdown",
   "id": "d0b6452e",
   "metadata": {},
   "source": [
    "Train the final model:"
   ]
  },
  {
   "cell_type": "code",
   "execution_count": 163,
   "id": "642f295b",
   "metadata": {},
   "outputs": [],
   "source": [
    "X_train = preprocessor.fit_transform(X_train)\n",
    "X_test = preprocessor.transform(X_test)"
   ]
  },
  {
   "cell_type": "code",
   "execution_count": 164,
   "id": "dcdca467",
   "metadata": {
    "scrolled": true
   },
   "outputs": [
    {
     "data": {
      "text/html": [
       "<style>#sk-container-id-2 {color: black;}#sk-container-id-2 pre{padding: 0;}#sk-container-id-2 div.sk-toggleable {background-color: white;}#sk-container-id-2 label.sk-toggleable__label {cursor: pointer;display: block;width: 100%;margin-bottom: 0;padding: 0.3em;box-sizing: border-box;text-align: center;}#sk-container-id-2 label.sk-toggleable__label-arrow:before {content: \"▸\";float: left;margin-right: 0.25em;color: #696969;}#sk-container-id-2 label.sk-toggleable__label-arrow:hover:before {color: black;}#sk-container-id-2 div.sk-estimator:hover label.sk-toggleable__label-arrow:before {color: black;}#sk-container-id-2 div.sk-toggleable__content {max-height: 0;max-width: 0;overflow: hidden;text-align: left;background-color: #f0f8ff;}#sk-container-id-2 div.sk-toggleable__content pre {margin: 0.2em;color: black;border-radius: 0.25em;background-color: #f0f8ff;}#sk-container-id-2 input.sk-toggleable__control:checked~div.sk-toggleable__content {max-height: 200px;max-width: 100%;overflow: auto;}#sk-container-id-2 input.sk-toggleable__control:checked~label.sk-toggleable__label-arrow:before {content: \"▾\";}#sk-container-id-2 div.sk-estimator input.sk-toggleable__control:checked~label.sk-toggleable__label {background-color: #d4ebff;}#sk-container-id-2 div.sk-label input.sk-toggleable__control:checked~label.sk-toggleable__label {background-color: #d4ebff;}#sk-container-id-2 input.sk-hidden--visually {border: 0;clip: rect(1px 1px 1px 1px);clip: rect(1px, 1px, 1px, 1px);height: 1px;margin: -1px;overflow: hidden;padding: 0;position: absolute;width: 1px;}#sk-container-id-2 div.sk-estimator {font-family: monospace;background-color: #f0f8ff;border: 1px dotted black;border-radius: 0.25em;box-sizing: border-box;margin-bottom: 0.5em;}#sk-container-id-2 div.sk-estimator:hover {background-color: #d4ebff;}#sk-container-id-2 div.sk-parallel-item::after {content: \"\";width: 100%;border-bottom: 1px solid gray;flex-grow: 1;}#sk-container-id-2 div.sk-label:hover label.sk-toggleable__label {background-color: #d4ebff;}#sk-container-id-2 div.sk-serial::before {content: \"\";position: absolute;border-left: 1px solid gray;box-sizing: border-box;top: 0;bottom: 0;left: 50%;z-index: 0;}#sk-container-id-2 div.sk-serial {display: flex;flex-direction: column;align-items: center;background-color: white;padding-right: 0.2em;padding-left: 0.2em;position: relative;}#sk-container-id-2 div.sk-item {position: relative;z-index: 1;}#sk-container-id-2 div.sk-parallel {display: flex;align-items: stretch;justify-content: center;background-color: white;position: relative;}#sk-container-id-2 div.sk-item::before, #sk-container-id-2 div.sk-parallel-item::before {content: \"\";position: absolute;border-left: 1px solid gray;box-sizing: border-box;top: 0;bottom: 0;left: 50%;z-index: -1;}#sk-container-id-2 div.sk-parallel-item {display: flex;flex-direction: column;z-index: 1;position: relative;background-color: white;}#sk-container-id-2 div.sk-parallel-item:first-child::after {align-self: flex-end;width: 50%;}#sk-container-id-2 div.sk-parallel-item:last-child::after {align-self: flex-start;width: 50%;}#sk-container-id-2 div.sk-parallel-item:only-child::after {width: 0;}#sk-container-id-2 div.sk-dashed-wrapped {border: 1px dashed gray;margin: 0 0.4em 0.5em 0.4em;box-sizing: border-box;padding-bottom: 0.4em;background-color: white;}#sk-container-id-2 div.sk-label label {font-family: monospace;font-weight: bold;display: inline-block;line-height: 1.2em;}#sk-container-id-2 div.sk-label-container {text-align: center;}#sk-container-id-2 div.sk-container {/* jupyter's `normalize.less` sets `[hidden] { display: none; }` but bootstrap.min.css set `[hidden] { display: none !important; }` so we also need the `!important` here to be able to override the default hidden behavior on the sphinx rendered scikit-learn.org. See: https://github.com/scikit-learn/scikit-learn/issues/21755 */display: inline-block !important;position: relative;}#sk-container-id-2 div.sk-text-repr-fallback {display: none;}</style><div id=\"sk-container-id-2\" class=\"sk-top-container\"><div class=\"sk-text-repr-fallback\"><pre>GradientBoostingClassifier(max_features=&#x27;sqrt&#x27;, min_samples_split=4,\n",
       "                           n_estimators=1000, subsample=0.9)</pre><b>In a Jupyter environment, please rerun this cell to show the HTML representation or trust the notebook. <br />On GitHub, the HTML representation is unable to render, please try loading this page with nbviewer.org.</b></div><div class=\"sk-container\" hidden><div class=\"sk-item\"><div class=\"sk-estimator sk-toggleable\"><input class=\"sk-toggleable__control sk-hidden--visually\" id=\"sk-estimator-id-4\" type=\"checkbox\" checked><label for=\"sk-estimator-id-4\" class=\"sk-toggleable__label sk-toggleable__label-arrow\">GradientBoostingClassifier</label><div class=\"sk-toggleable__content\"><pre>GradientBoostingClassifier(max_features=&#x27;sqrt&#x27;, min_samples_split=4,\n",
       "                           n_estimators=1000, subsample=0.9)</pre></div></div></div></div></div>"
      ],
      "text/plain": [
       "GradientBoostingClassifier(max_features='sqrt', min_samples_split=4,\n",
       "                           n_estimators=1000, subsample=0.9)"
      ]
     },
     "execution_count": 164,
     "metadata": {},
     "output_type": "execute_result"
    }
   ],
   "source": [
    "clf = GradientBoostingClassifier(**cv.best_params_)\n",
    "clf.fit(X_train, y_train)"
   ]
  },
  {
   "cell_type": "markdown",
   "id": "67335fbb",
   "metadata": {},
   "source": [
    "# 3. Results"
   ]
  },
  {
   "cell_type": "markdown",
   "id": "047c2e7a",
   "metadata": {},
   "source": [
    "Test the final model using the test set:"
   ]
  },
  {
   "cell_type": "code",
   "execution_count": 165,
   "id": "562e103d",
   "metadata": {},
   "outputs": [
    {
     "data": {
      "text/plain": [
       "0.8751126033903858"
      ]
     },
     "execution_count": 165,
     "metadata": {},
     "output_type": "execute_result"
    }
   ],
   "source": [
    "clf.score(X_test, y_test)"
   ]
  },
  {
   "cell_type": "markdown",
   "id": "f24ea7e7",
   "metadata": {},
   "source": [
    "# 4. Conclusion"
   ]
  },
  {
   "cell_type": "markdown",
   "id": "7aa26e7f",
   "metadata": {},
   "source": [
    "A major takeaway is that scaling numeric data doesn't necessarily help improve the model performance. This is probably due to the fact that the data range is not drastically different. \n",
    "\n",
    "To further improve the model's performance, we can use the cross-validation testing harness designed to test more different configurations, e.g. feature selection, other imputation strategies and tune even more hyperparameters with more options."
   ]
  }
 ],
 "metadata": {
  "kernelspec": {
   "display_name": "Python 3 (ipykernel)",
   "language": "python",
   "name": "python3"
  },
  "language_info": {
   "codemirror_mode": {
    "name": "ipython",
    "version": 3
   },
   "file_extension": ".py",
   "mimetype": "text/x-python",
   "name": "python",
   "nbconvert_exporter": "python",
   "pygments_lexer": "ipython3",
   "version": "3.10.13"
  }
 },
 "nbformat": 4,
 "nbformat_minor": 5
}
